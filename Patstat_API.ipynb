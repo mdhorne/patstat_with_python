{
 "cells": [
  {
   "cell_type": "code",
   "execution_count": 1,
   "metadata": {
    "ExecuteTime": {
     "end_time": "2022-12-08T21:36:14.558321Z",
     "start_time": "2022-12-08T21:36:13.670335Z"
    }
   },
   "outputs": [],
   "source": [
    "from selenium import webdriver\n",
    "from selenium.webdriver.common.by import By\n",
    "from selenium.webdriver.common.keys import Keys\n",
    "import time\n",
    "import pandas as pd\n",
    "import numpy as np\n",
    "from pathlib import Path\n",
    "import os"
   ]
  },
  {
   "cell_type": "code",
   "execution_count": 2,
   "metadata": {
    "ExecuteTime": {
     "end_time": "2022-12-08T21:36:14.573835Z",
     "start_time": "2022-12-08T21:36:14.562314Z"
    }
   },
   "outputs": [],
   "source": [
    "def write_query(text):\n",
    "    \"\"\"\n",
    "    Writes text to the query field.\n",
    "    \"\"\"\n",
    "    query_field.click()\n",
    "    try:\n",
    "        #try_click(By.CLASS_NAME,'CodeMirror')\n",
    "        query_field.click()\n",
    "        #time.sleep(1)\n",
    "        query_field.send_keys(Keys.CONTROL + \"a\")\n",
    "        query_field.send_keys(text)\n",
    "    except:\n",
    "        pass"
   ]
  },
  {
   "cell_type": "code",
   "execution_count": 3,
   "metadata": {
    "ExecuteTime": {
     "end_time": "2022-12-08T21:36:14.637379Z",
     "start_time": "2022-12-08T21:36:14.577337Z"
    }
   },
   "outputs": [],
   "source": [
    "def initialize_patstat():\n",
    "    print('Initializing Patstat, please wait a few minutes.')\n",
    "    #browser exposes an executable file\n",
    "    #Through Selenium test we will invoke the executable file which will then #invoke actual browser\n",
    "    driver = webdriver.Firefox(executable_path=\"C:\\Program Files\\Mozilla Firefox\\geckodriver.exe\")\n",
    "    # to maximize the browser window\n",
    "    driver.maximize_window()\n",
    "    #get method to launch the URL\n",
    "    URL = driver.get(\"https://data.epo.org/expert-services/\")\n",
    "    # Close PatStat warning message\n",
    "    time.sleep(2)\n",
    "    button_Close = driver.find_element(By.ID,'dijit_form_Button_0_label')\n",
    "    button_Close.click()\n",
    "    time.sleep(2)\n",
    "    \n",
    "    # Connect to Patstat using the credentials\n",
    "    \n",
    "    username='contact@chaireeconomieduclimat.org'\n",
    "    password='cLnI7ZDA'\n",
    "    \n",
    "    button_Username = driver.find_element(By.ID,'username')\n",
    "    button_Username.click()\n",
    "    button_Username.send_keys(username)\n",
    "    button_Password = driver.find_element(By.ID,'password')\n",
    "    button_Password.click()\n",
    "    button_Password.send_keys(password)\n",
    "\n",
    "    button_Log_in = driver.find_element(By.ID,'buttonLogin_label').click()\n",
    "    time.sleep(5)\n",
    "\n",
    "    # PatStat Spring 2022\n",
    "    objects = driver.find_elements(By.CLASS_NAME, 'fullPart')\n",
    "    objects = [el for el in objects if 'PATSTAT Online' in el.text]\n",
    "    for obj in objects:\n",
    "        try:\n",
    "            obj.click()\n",
    "            break\n",
    "        except:\n",
    "            pass\n",
    "\n",
    "    # Go to the tab Table\n",
    "    go_to_Table = driver.find_element(By.ID,'goToTableLink')\n",
    "    go_to_Table.click()\n",
    "    time.sleep(5)\n",
    "\n",
    "    # Look for the query field in the elements of the page\n",
    "    list_el = [el for el in driver.find_elements_by_xpath('//*') if 'tls201' in el.text]\n",
    "    \n",
    "    #If the function does not work, maybe the idenfication of the query field is wrong.\n",
    "    #The second element (index 1) has been identified as the good one in previous trials.\n",
    "    #Try to set query_el = range(len(list_el)) or identify the right element corresponding to the query field,\n",
    "    #within 0 to len(list_el).\n",
    "    \n",
    "    query_field = list_el[1]\n",
    "    \n",
    "    # If TEST is displayed in the query field. Identification worked properly.\n",
    "    write_query('TEST')\n",
    "    print('Patstat initialized. Check if the word TEST is displayed in the query field.')\n",
    "    \n",
    "    return driver, query_field, list_el"
   ]
  },
  {
   "cell_type": "code",
   "execution_count": 4,
   "metadata": {
    "ExecuteTime": {
     "end_time": "2022-12-08T21:36:14.762345Z",
     "start_time": "2022-12-08T21:36:14.738347Z"
    }
   },
   "outputs": [],
   "source": [
    "def try_click(by_what, text_search, condition=None, display=True):\n",
    "    \"\"\"\n",
    "    A function that tries to click elements of type 'by_what' which names contain 'text_search'\n",
    "    \"\"\"\n",
    "    # Look for elements\n",
    "    objects = driver.find_elements(by_what, text_search)\n",
    "    \n",
    "    if condition:\n",
    "        objects = [el for el in objects if condition in el.text]\n",
    "    \n",
    "    count = 0\n",
    "    clicked_object = None\n",
    "    \n",
    "    # Try to click on found elements\n",
    "    for obj in objects:\n",
    "        try:\n",
    "            obj.click()\n",
    "            clicked_object = obj\n",
    "            break\n",
    "        except:\n",
    "            count += 1\n",
    "            pass\n",
    "    if count == len(objects) and display:\n",
    "        print('No element clicked')\n",
    "    return clicked_object"
   ]
  },
  {
   "cell_type": "code",
   "execution_count": 5,
   "metadata": {
    "ExecuteTime": {
     "end_time": "2022-12-08T21:36:14.950956Z",
     "start_time": "2022-12-08T21:36:14.927951Z"
    }
   },
   "outputs": [],
   "source": [
    "def download_all():\n",
    "    \n",
    "    time.sleep(5)\n",
    "    button_download_menu = driver.find_element(By.ID,'download_text')\n",
    "    button_download_menu.click()\n",
    "    time.sleep(1)\n",
    "    button_download_menu_2 = driver.find_element(By.ID,'downloadManagerMenuItem_text')\n",
    "    button_download_menu_2.click()\n",
    "    \n",
    "    for download_button in driver.find_elements(By.XPATH,\"//*[contains(@class, 'buttonDownloadSave') and not(contains(@class, 'buttonDownloadDelete'))]\"):\n",
    "        try:\n",
    "            download_button.click()\n",
    "        except:\n",
    "            pass\n",
    "        \n",
    "        time.sleep(5)"
   ]
  },
  {
   "cell_type": "code",
   "execution_count": 6,
   "metadata": {
    "ExecuteTime": {
     "end_time": "2022-12-08T21:36:15.139469Z",
     "start_time": "2022-12-08T21:36:15.113968Z"
    }
   },
   "outputs": [],
   "source": [
    "def clear_all_downloads():\n",
    "    \n",
    "    button_download_menu = driver.find_element(By.ID,'download_text')\n",
    "    button_download_menu.click()\n",
    "    time.sleep(1)\n",
    "    button_download_menu_2 = driver.find_element(By.ID,'downloadManagerMenuItem_text')\n",
    "    button_download_menu_2.click()\n",
    "    time.sleep(1)\n",
    "    try_click(By.CLASS_NAME, 'dijitReset', condition='Clear list', display=False)\n",
    "    \n",
    "    # Clicking the confirmation dialogue\n",
    "    try_click(By.CLASS_NAME, 'dijitReset', condition='Yes', display=False)\n",
    "    \n",
    "    # Closing the download manager\n",
    "    close_dialog()"
   ]
  },
  {
   "cell_type": "code",
   "execution_count": 7,
   "metadata": {
    "ExecuteTime": {
     "end_time": "2022-12-08T21:36:15.326984Z",
     "start_time": "2022-12-08T21:36:15.307974Z"
    }
   },
   "outputs": [],
   "source": [
    "def close_dialog():\n",
    "    for close_button in driver.find_elements(By.CLASS_NAME,'dijitDialogCloseIcon'):\n",
    "        try:\n",
    "            close_button.click()\n",
    "        except:\n",
    "            pass"
   ]
  },
  {
   "cell_type": "code",
   "execution_count": 8,
   "metadata": {
    "ExecuteTime": {
     "end_time": "2022-12-08T21:36:15.531002Z",
     "start_time": "2022-12-08T21:36:15.521484Z"
    }
   },
   "outputs": [],
   "source": [
    "def search():\n",
    "    _ = try_click(By.ID,'queryBlockContentResultTable_btLaunchQuery')"
   ]
  },
  {
   "cell_type": "code",
   "execution_count": 9,
   "metadata": {
    "ExecuteTime": {
     "end_time": "2022-12-08T21:36:16.190897Z",
     "start_time": "2022-12-08T21:36:16.170904Z"
    }
   },
   "outputs": [],
   "source": [
    "def find_nb_rows():\n",
    "    \"\"\"\n",
    "    Function to find the number of rows of a query. Uses the figure displayed on the top left.\n",
    "    \"\"\"\n",
    "    try:\n",
    "        idx = driver.page_source.find(' rows')\n",
    "        text_around = driver.page_source[idx-100:idx]\n",
    "        idx = text_around.find(\"\"\"\"onDblClick:stopEvent\">\"\"\")\n",
    "        text_around = text_around[idx+23:]\n",
    "        nb_rows = int(text_around.replace(\"&nbsp;\",''))\n",
    "        return nb_rows\n",
    "    \n",
    "    except ValueError:\n",
    "        print('No query found.')"
   ]
  },
  {
   "cell_type": "code",
   "execution_count": 10,
   "metadata": {
    "ExecuteTime": {
     "end_time": "2022-12-08T21:36:18.046912Z",
     "start_time": "2022-12-08T21:36:17.982398Z"
    }
   },
   "outputs": [],
   "source": [
    "def prepare_download():\n",
    "    \n",
    "    nb_rows = find_nb_rows()\n",
    "    delta_row = 700000\n",
    "    row = 1\n",
    "    count_downloads = 0\n",
    "    while row + delta_row < nb_rows:\n",
    "        \n",
    "        count_downloads += 1\n",
    "\n",
    "        button_download_menu = driver.find_element(By.ID,'download_text')\n",
    "        button_download_menu.click()\n",
    "        time.sleep(1)\n",
    "        button_download_menu_2 = driver.find_element(By.ID,'downloadMenuItem_text')\n",
    "        button_download_menu_2.click()\n",
    "        time.sleep(1)\n",
    "\n",
    "        content_from = driver.find_element(By.ID,'dijit_form_TextBox_1')\n",
    "        content_from.click()\n",
    "        content_from.send_keys(Keys.CONTROL + \"a\") #select all\n",
    "        content_from.send_keys(row)\n",
    "\n",
    "        content_to = driver.find_element(By.ID,'dijit_form_TextBox_2')\n",
    "        content_to.click()\n",
    "        content_to.send_keys(Keys.CONTROL + \"a\") #select all\n",
    "        content_to.send_keys(row+delta_row-1)\n",
    "\n",
    "        button_OK = driver.find_element(By.ID,'btDownload_label').click()\n",
    "\n",
    "        row += delta_row\n",
    "\n",
    "        time.sleep(10)\n",
    "\n",
    "    # Last query\n",
    "    \n",
    "    count_downloads += 1\n",
    "\n",
    "    button_download_menu = driver.find_element(By.ID,'download_text')\n",
    "    button_download_menu.click()\n",
    "    time.sleep(1)\n",
    "    button_download_menu_2 = driver.find_element(By.ID,'downloadMenuItem_text')\n",
    "    button_download_menu_2.click()\n",
    "    time.sleep(1)\n",
    "\n",
    "    content_from = driver.find_element(By.ID,'dijit_form_TextBox_1')\n",
    "    content_from.click()\n",
    "    content_from.send_keys(Keys.CONTROL + \"a\") #select all\n",
    "    content_from.send_keys(row)\n",
    "\n",
    "    content_to = driver.find_element(By.ID,'dijit_form_TextBox_2')\n",
    "    content_to.click()\n",
    "    content_to.send_keys(Keys.CONTROL + \"a\") #select all\n",
    "    content_to.send_keys(nb_rows)\n",
    "\n",
    "    button_OK = driver.find_element(By.ID,'btDownload_label').click()\n",
    "    \n",
    "    print(count_downloads,'download(s) ready')\n",
    "    return count_downloads"
   ]
  },
  {
   "cell_type": "code",
   "execution_count": 11,
   "metadata": {
    "ExecuteTime": {
     "end_time": "2022-12-08T21:36:19.161772Z",
     "start_time": "2022-12-08T21:36:19.143213Z"
    }
   },
   "outputs": [],
   "source": [
    "def wait(by_what, text_search):\n",
    "    '''\n",
    "    A function that waits.\n",
    "    \n",
    "    Typically, when interacting with Patstat, the screen might darken while some tasks are performed.\n",
    "    This function tries to click a button continuously.\n",
    "    If it is not available, the tasks are considered to be still in progress.\n",
    "    '''\n",
    "    \n",
    "    #text_search = 'CodeMirror' and by_what = By.CLASS_NAME for a query to end\n",
    "    #text_search = 'download_text' and by_what = By.ID for a download to end ??\n",
    "    \n",
    "    var = None\n",
    "    while var is None:\n",
    "        var = try_click(by_what, text_search,display=False)"
   ]
  },
  {
   "cell_type": "code",
   "execution_count": 12,
   "metadata": {
    "ExecuteTime": {
     "end_time": "2022-12-08T21:36:19.788975Z",
     "start_time": "2022-12-08T21:36:19.771977Z"
    }
   },
   "outputs": [],
   "source": [
    "def wait_for_download_preparation():\n",
    "    '''\n",
    "    A function that waits for the query to end.\n",
    "    \n",
    "    Basically, when a query is queued, the screen darkens and a message 'Search in progress' pops.\n",
    "    This prevents clicking on the search button again.\n",
    "    This function tries to click the button continuously.\n",
    "    If the search button is not available, the query is considered still in progress.\n",
    "    '''\n",
    "    var = None\n",
    "    while var is None:\n",
    "        var = try_click(By.CLASS_NAME,'CodeMirror',display=False)"
   ]
  },
  {
   "cell_type": "markdown",
   "metadata": {},
   "source": [
    "In the following example, the script launches three different queries. One for the patent count between 1990 and 1999, one between 2000 and 2009, and the last one between 2010 and 2019. Notice that this could have been done in one shot, from 1990 to 2019, but this just serves as an example here."
   ]
  },
  {
   "cell_type": "code",
   "execution_count": 13,
   "metadata": {
    "ExecuteTime": {
     "end_time": "2022-12-08T21:38:03.693176Z",
     "start_time": "2022-12-08T21:36:24.509544Z"
    }
   },
   "outputs": [
    {
     "name": "stdout",
     "output_type": "stream",
     "text": [
      "Initializing Patstat, please wait a few minutes.\n"
     ]
    },
    {
     "ename": "StaleElementReferenceException",
     "evalue": "Message: The element reference of [object String] \"{\\\"element-6066-11e4-a52e-4f735466cecf\\\":\\\"ab8794fa-d3bc-434c-9d38-8fa96849a5c3\\\"}\" is stale; either the element is no longer attached to the DOM, it is not in the current frame context, or the document has been refreshed\n",
     "output_type": "error",
     "traceback": [
      "\u001b[1;31m---------------------------------------------------------------------------\u001b[0m",
      "\u001b[1;31mStaleElementReferenceException\u001b[0m            Traceback (most recent call last)",
      "\u001b[1;32m<ipython-input-13-41e7eb3ef989>\u001b[0m in \u001b[0;36m<module>\u001b[1;34m()\u001b[0m\n\u001b[1;32m----> 1\u001b[1;33m \u001b[0mdriver\u001b[0m\u001b[1;33m,\u001b[0m \u001b[0mquery_field\u001b[0m\u001b[1;33m,\u001b[0m \u001b[0mfields\u001b[0m \u001b[1;33m=\u001b[0m \u001b[0minitialize_patstat\u001b[0m\u001b[1;33m(\u001b[0m\u001b[1;33m)\u001b[0m\u001b[1;33m\u001b[0m\u001b[1;33m\u001b[0m\u001b[0m\n\u001b[0m",
      "\u001b[1;32m<ipython-input-3-f4ef004e70e2>\u001b[0m in \u001b[0;36minitialize_patstat\u001b[1;34m()\u001b[0m\n\u001b[0;32m     45\u001b[0m \u001b[1;33m\u001b[0m\u001b[0m\n\u001b[0;32m     46\u001b[0m     \u001b[1;31m# Look for the query field in the elements of the page\u001b[0m\u001b[1;33m\u001b[0m\u001b[1;33m\u001b[0m\u001b[1;33m\u001b[0m\u001b[0m\n\u001b[1;32m---> 47\u001b[1;33m     \u001b[0mlist_el\u001b[0m \u001b[1;33m=\u001b[0m \u001b[1;33m[\u001b[0m\u001b[0mel\u001b[0m \u001b[1;32mfor\u001b[0m \u001b[0mel\u001b[0m \u001b[1;32min\u001b[0m \u001b[0mdriver\u001b[0m\u001b[1;33m.\u001b[0m\u001b[0mfind_elements_by_xpath\u001b[0m\u001b[1;33m(\u001b[0m\u001b[1;34m'//*'\u001b[0m\u001b[1;33m)\u001b[0m \u001b[1;32mif\u001b[0m \u001b[1;34m'tls201'\u001b[0m \u001b[1;32min\u001b[0m \u001b[0mel\u001b[0m\u001b[1;33m.\u001b[0m\u001b[0mtext\u001b[0m\u001b[1;33m]\u001b[0m\u001b[1;33m\u001b[0m\u001b[1;33m\u001b[0m\u001b[0m\n\u001b[0m\u001b[0;32m     48\u001b[0m \u001b[1;33m\u001b[0m\u001b[0m\n\u001b[0;32m     49\u001b[0m     \u001b[1;31m#If the function does not work, maybe the idenfication of the query field is wrong.\u001b[0m\u001b[1;33m\u001b[0m\u001b[1;33m\u001b[0m\u001b[1;33m\u001b[0m\u001b[0m\n",
      "\u001b[1;32m<ipython-input-3-f4ef004e70e2>\u001b[0m in \u001b[0;36m<listcomp>\u001b[1;34m(.0)\u001b[0m\n\u001b[0;32m     45\u001b[0m \u001b[1;33m\u001b[0m\u001b[0m\n\u001b[0;32m     46\u001b[0m     \u001b[1;31m# Look for the query field in the elements of the page\u001b[0m\u001b[1;33m\u001b[0m\u001b[1;33m\u001b[0m\u001b[1;33m\u001b[0m\u001b[0m\n\u001b[1;32m---> 47\u001b[1;33m     \u001b[0mlist_el\u001b[0m \u001b[1;33m=\u001b[0m \u001b[1;33m[\u001b[0m\u001b[0mel\u001b[0m \u001b[1;32mfor\u001b[0m \u001b[0mel\u001b[0m \u001b[1;32min\u001b[0m \u001b[0mdriver\u001b[0m\u001b[1;33m.\u001b[0m\u001b[0mfind_elements_by_xpath\u001b[0m\u001b[1;33m(\u001b[0m\u001b[1;34m'//*'\u001b[0m\u001b[1;33m)\u001b[0m \u001b[1;32mif\u001b[0m \u001b[1;34m'tls201'\u001b[0m \u001b[1;32min\u001b[0m \u001b[0mel\u001b[0m\u001b[1;33m.\u001b[0m\u001b[0mtext\u001b[0m\u001b[1;33m]\u001b[0m\u001b[1;33m\u001b[0m\u001b[1;33m\u001b[0m\u001b[0m\n\u001b[0m\u001b[0;32m     48\u001b[0m \u001b[1;33m\u001b[0m\u001b[0m\n\u001b[0;32m     49\u001b[0m     \u001b[1;31m#If the function does not work, maybe the idenfication of the query field is wrong.\u001b[0m\u001b[1;33m\u001b[0m\u001b[1;33m\u001b[0m\u001b[1;33m\u001b[0m\u001b[0m\n",
      "\u001b[1;32mC:\\Users\\Dhorne\\.conda\\envs\\storage\\lib\\site-packages\\selenium\\webdriver\\remote\\webelement.py\u001b[0m in \u001b[0;36mtext\u001b[1;34m(self)\u001b[0m\n\u001b[0;32m     74\u001b[0m     \u001b[1;32mdef\u001b[0m \u001b[0mtext\u001b[0m\u001b[1;33m(\u001b[0m\u001b[0mself\u001b[0m\u001b[1;33m)\u001b[0m\u001b[1;33m:\u001b[0m\u001b[1;33m\u001b[0m\u001b[1;33m\u001b[0m\u001b[0m\n\u001b[0;32m     75\u001b[0m         \u001b[1;34m\"\"\"The text of the element.\"\"\"\u001b[0m\u001b[1;33m\u001b[0m\u001b[1;33m\u001b[0m\u001b[0m\n\u001b[1;32m---> 76\u001b[1;33m         \u001b[1;32mreturn\u001b[0m \u001b[0mself\u001b[0m\u001b[1;33m.\u001b[0m\u001b[0m_execute\u001b[0m\u001b[1;33m(\u001b[0m\u001b[0mCommand\u001b[0m\u001b[1;33m.\u001b[0m\u001b[0mGET_ELEMENT_TEXT\u001b[0m\u001b[1;33m)\u001b[0m\u001b[1;33m[\u001b[0m\u001b[1;34m'value'\u001b[0m\u001b[1;33m]\u001b[0m\u001b[1;33m\u001b[0m\u001b[1;33m\u001b[0m\u001b[0m\n\u001b[0m\u001b[0;32m     77\u001b[0m \u001b[1;33m\u001b[0m\u001b[0m\n\u001b[0;32m     78\u001b[0m     \u001b[1;32mdef\u001b[0m \u001b[0mclick\u001b[0m\u001b[1;33m(\u001b[0m\u001b[0mself\u001b[0m\u001b[1;33m)\u001b[0m\u001b[1;33m:\u001b[0m\u001b[1;33m\u001b[0m\u001b[1;33m\u001b[0m\u001b[0m\n",
      "\u001b[1;32mC:\\Users\\Dhorne\\.conda\\envs\\storage\\lib\\site-packages\\selenium\\webdriver\\remote\\webelement.py\u001b[0m in \u001b[0;36m_execute\u001b[1;34m(self, command, params)\u001b[0m\n\u001b[0;32m    631\u001b[0m             \u001b[0mparams\u001b[0m \u001b[1;33m=\u001b[0m \u001b[1;33m{\u001b[0m\u001b[1;33m}\u001b[0m\u001b[1;33m\u001b[0m\u001b[1;33m\u001b[0m\u001b[0m\n\u001b[0;32m    632\u001b[0m         \u001b[0mparams\u001b[0m\u001b[1;33m[\u001b[0m\u001b[1;34m'id'\u001b[0m\u001b[1;33m]\u001b[0m \u001b[1;33m=\u001b[0m \u001b[0mself\u001b[0m\u001b[1;33m.\u001b[0m\u001b[0m_id\u001b[0m\u001b[1;33m\u001b[0m\u001b[1;33m\u001b[0m\u001b[0m\n\u001b[1;32m--> 633\u001b[1;33m         \u001b[1;32mreturn\u001b[0m \u001b[0mself\u001b[0m\u001b[1;33m.\u001b[0m\u001b[0m_parent\u001b[0m\u001b[1;33m.\u001b[0m\u001b[0mexecute\u001b[0m\u001b[1;33m(\u001b[0m\u001b[0mcommand\u001b[0m\u001b[1;33m,\u001b[0m \u001b[0mparams\u001b[0m\u001b[1;33m)\u001b[0m\u001b[1;33m\u001b[0m\u001b[1;33m\u001b[0m\u001b[0m\n\u001b[0m\u001b[0;32m    634\u001b[0m \u001b[1;33m\u001b[0m\u001b[0m\n\u001b[0;32m    635\u001b[0m     \u001b[1;32mdef\u001b[0m \u001b[0mfind_element\u001b[0m\u001b[1;33m(\u001b[0m\u001b[0mself\u001b[0m\u001b[1;33m,\u001b[0m \u001b[0mby\u001b[0m\u001b[1;33m=\u001b[0m\u001b[0mBy\u001b[0m\u001b[1;33m.\u001b[0m\u001b[0mID\u001b[0m\u001b[1;33m,\u001b[0m \u001b[0mvalue\u001b[0m\u001b[1;33m=\u001b[0m\u001b[1;32mNone\u001b[0m\u001b[1;33m)\u001b[0m\u001b[1;33m:\u001b[0m\u001b[1;33m\u001b[0m\u001b[1;33m\u001b[0m\u001b[0m\n",
      "\u001b[1;32mC:\\Users\\Dhorne\\.conda\\envs\\storage\\lib\\site-packages\\selenium\\webdriver\\remote\\webdriver.py\u001b[0m in \u001b[0;36mexecute\u001b[1;34m(self, driver_command, params)\u001b[0m\n\u001b[0;32m    319\u001b[0m         \u001b[0mresponse\u001b[0m \u001b[1;33m=\u001b[0m \u001b[0mself\u001b[0m\u001b[1;33m.\u001b[0m\u001b[0mcommand_executor\u001b[0m\u001b[1;33m.\u001b[0m\u001b[0mexecute\u001b[0m\u001b[1;33m(\u001b[0m\u001b[0mdriver_command\u001b[0m\u001b[1;33m,\u001b[0m \u001b[0mparams\u001b[0m\u001b[1;33m)\u001b[0m\u001b[1;33m\u001b[0m\u001b[1;33m\u001b[0m\u001b[0m\n\u001b[0;32m    320\u001b[0m         \u001b[1;32mif\u001b[0m \u001b[0mresponse\u001b[0m\u001b[1;33m:\u001b[0m\u001b[1;33m\u001b[0m\u001b[1;33m\u001b[0m\u001b[0m\n\u001b[1;32m--> 321\u001b[1;33m             \u001b[0mself\u001b[0m\u001b[1;33m.\u001b[0m\u001b[0merror_handler\u001b[0m\u001b[1;33m.\u001b[0m\u001b[0mcheck_response\u001b[0m\u001b[1;33m(\u001b[0m\u001b[0mresponse\u001b[0m\u001b[1;33m)\u001b[0m\u001b[1;33m\u001b[0m\u001b[1;33m\u001b[0m\u001b[0m\n\u001b[0m\u001b[0;32m    322\u001b[0m             response['value'] = self._unwrap_value(\n\u001b[0;32m    323\u001b[0m                 response.get('value', None))\n",
      "\u001b[1;32mC:\\Users\\Dhorne\\.conda\\envs\\storage\\lib\\site-packages\\selenium\\webdriver\\remote\\errorhandler.py\u001b[0m in \u001b[0;36mcheck_response\u001b[1;34m(self, response)\u001b[0m\n\u001b[0;32m    240\u001b[0m                 \u001b[0malert_text\u001b[0m \u001b[1;33m=\u001b[0m \u001b[0mvalue\u001b[0m\u001b[1;33m[\u001b[0m\u001b[1;34m'alert'\u001b[0m\u001b[1;33m]\u001b[0m\u001b[1;33m.\u001b[0m\u001b[0mget\u001b[0m\u001b[1;33m(\u001b[0m\u001b[1;34m'text'\u001b[0m\u001b[1;33m)\u001b[0m\u001b[1;33m\u001b[0m\u001b[1;33m\u001b[0m\u001b[0m\n\u001b[0;32m    241\u001b[0m             \u001b[1;32mraise\u001b[0m \u001b[0mexception_class\u001b[0m\u001b[1;33m(\u001b[0m\u001b[0mmessage\u001b[0m\u001b[1;33m,\u001b[0m \u001b[0mscreen\u001b[0m\u001b[1;33m,\u001b[0m \u001b[0mstacktrace\u001b[0m\u001b[1;33m,\u001b[0m \u001b[0malert_text\u001b[0m\u001b[1;33m)\u001b[0m\u001b[1;33m\u001b[0m\u001b[1;33m\u001b[0m\u001b[0m\n\u001b[1;32m--> 242\u001b[1;33m         \u001b[1;32mraise\u001b[0m \u001b[0mexception_class\u001b[0m\u001b[1;33m(\u001b[0m\u001b[0mmessage\u001b[0m\u001b[1;33m,\u001b[0m \u001b[0mscreen\u001b[0m\u001b[1;33m,\u001b[0m \u001b[0mstacktrace\u001b[0m\u001b[1;33m)\u001b[0m\u001b[1;33m\u001b[0m\u001b[1;33m\u001b[0m\u001b[0m\n\u001b[0m\u001b[0;32m    243\u001b[0m \u001b[1;33m\u001b[0m\u001b[0m\n\u001b[0;32m    244\u001b[0m     \u001b[1;32mdef\u001b[0m \u001b[0m_value_or_default\u001b[0m\u001b[1;33m(\u001b[0m\u001b[0mself\u001b[0m\u001b[1;33m,\u001b[0m \u001b[0mobj\u001b[0m\u001b[1;33m,\u001b[0m \u001b[0mkey\u001b[0m\u001b[1;33m,\u001b[0m \u001b[0mdefault\u001b[0m\u001b[1;33m)\u001b[0m\u001b[1;33m:\u001b[0m\u001b[1;33m\u001b[0m\u001b[1;33m\u001b[0m\u001b[0m\n",
      "\u001b[1;31mStaleElementReferenceException\u001b[0m: Message: The element reference of [object String] \"{\\\"element-6066-11e4-a52e-4f735466cecf\\\":\\\"ab8794fa-d3bc-434c-9d38-8fa96849a5c3\\\"}\" is stale; either the element is no longer attached to the DOM, it is not in the current frame context, or the document has been refreshed\n"
     ]
    }
   ],
   "source": [
    "driver, query_field, fields = initialize_patstat()"
   ]
  },
  {
   "cell_type": "code",
   "execution_count": 90,
   "metadata": {
    "ExecuteTime": {
     "end_time": "2022-12-08T21:32:50.158793Z",
     "start_time": "2022-12-08T21:32:50.140785Z"
    }
   },
   "outputs": [],
   "source": [
    "def example_query(date_start, date_end):\n",
    "    text = f\"\"\"\n",
    "SELECT a.appln_filing_year, COUNT(DISTINCT a.appln_id) AS NumberOfPatentApplications\n",
    "FROM tls201_appln a\n",
    "JOIN tls209_appln_ipc i ON a.appln_id = i.appln_id\n",
    "WHERE i.ipc_class_symbol LIKE 'B08B%' -- Change IPC symbol here\n",
    "AND a.appln_filing_year BETWEEN {str(date_start)} AND {str(date_end)} -- Define year range here\n",
    "GROUP BY a.appln_filing_year\n",
    "ORDER BY a.appln_filing_year\n",
    "\"\"\"\n",
    "    return text"
   ]
  },
  {
   "cell_type": "code",
   "execution_count": 91,
   "metadata": {
    "ExecuteTime": {
     "end_time": "2022-12-08T21:32:51.944235Z",
     "start_time": "2022-12-08T21:32:51.926243Z"
    },
    "scrolled": true
   },
   "outputs": [
    {
     "name": "stdout",
     "output_type": "stream",
     "text": [
      "\n",
      "SELECT a.appln_filing_year, COUNT(DISTINCT a.appln_id) AS NumberOfPatentApplications\n",
      "FROM tls201_appln a\n",
      "JOIN tls209_appln_ipc i ON a.appln_id = i.appln_id\n",
      "WHERE i.ipc_class_symbol LIKE 'B08B%' -- Change IPC symbol here\n",
      "AND a.appln_filing_year BETWEEN 2012 AND 2013 -- Define year range here\n",
      "GROUP BY a.appln_filing_year\n",
      "ORDER BY a.appln_filing_year\n",
      "\n"
     ]
    }
   ],
   "source": [
    "print(example_query(2012,2013))"
   ]
  },
  {
   "cell_type": "code",
   "execution_count": 89,
   "metadata": {
    "ExecuteTime": {
     "end_time": "2022-12-08T21:32:18.794642Z",
     "start_time": "2022-12-08T21:32:14.025704Z"
    }
   },
   "outputs": [
    {
     "name": "stdout",
     "output_type": "stream",
     "text": [
      "No element clicked\n",
      "10 entries found\n"
     ]
    },
    {
     "ename": "ElementNotInteractableException",
     "evalue": "Message: Element <td id=\"downloadMenuItem_text\" class=\"dijitReset dijitMenuItemLabel\"> could not be scrolled into view\n",
     "output_type": "error",
     "traceback": [
      "\u001b[1;31m---------------------------------------------------------------------------\u001b[0m",
      "\u001b[1;31mElementNotInteractableException\u001b[0m           Traceback (most recent call last)",
      "\u001b[1;32m<ipython-input-89-2066da76d8b7>\u001b[0m in \u001b[0;36m<module>\u001b[1;34m()\u001b[0m\n\u001b[0;32m      7\u001b[0m     \u001b[0mwait\u001b[0m\u001b[1;33m(\u001b[0m\u001b[0mBy\u001b[0m\u001b[1;33m.\u001b[0m\u001b[0mCLASS_NAME\u001b[0m\u001b[1;33m,\u001b[0m \u001b[1;34m'CodeMirror'\u001b[0m\u001b[1;33m)\u001b[0m\u001b[1;33m\u001b[0m\u001b[1;33m\u001b[0m\u001b[0m\n\u001b[0;32m      8\u001b[0m     \u001b[0mprint\u001b[0m\u001b[1;33m(\u001b[0m\u001b[0mfind_nb_rows\u001b[0m\u001b[1;33m(\u001b[0m\u001b[1;33m)\u001b[0m\u001b[1;33m,\u001b[0m \u001b[1;34m'entries found'\u001b[0m\u001b[1;33m)\u001b[0m\u001b[1;33m\u001b[0m\u001b[1;33m\u001b[0m\u001b[0m\n\u001b[1;32m----> 9\u001b[1;33m     \u001b[0mcount_downloads\u001b[0m \u001b[1;33m=\u001b[0m \u001b[0mprepare_download\u001b[0m\u001b[1;33m(\u001b[0m\u001b[1;33m)\u001b[0m\u001b[1;33m\u001b[0m\u001b[1;33m\u001b[0m\u001b[0m\n\u001b[0m\u001b[0;32m     10\u001b[0m     \u001b[1;31m# Wait for preparation\u001b[0m\u001b[1;33m\u001b[0m\u001b[1;33m\u001b[0m\u001b[1;33m\u001b[0m\u001b[0m\n\u001b[0;32m     11\u001b[0m     \u001b[1;31m#wait(By.ID, 'download_text')\u001b[0m\u001b[1;33m\u001b[0m\u001b[1;33m\u001b[0m\u001b[1;33m\u001b[0m\u001b[0m\n",
      "\u001b[1;32m<ipython-input-58-7fed9ca74e34>\u001b[0m in \u001b[0;36mprepare_download\u001b[1;34m()\u001b[0m\n\u001b[0;32m     40\u001b[0m     \u001b[0mtime\u001b[0m\u001b[1;33m.\u001b[0m\u001b[0msleep\u001b[0m\u001b[1;33m(\u001b[0m\u001b[1;36m1\u001b[0m\u001b[1;33m)\u001b[0m\u001b[1;33m\u001b[0m\u001b[1;33m\u001b[0m\u001b[0m\n\u001b[0;32m     41\u001b[0m     \u001b[0mbutton_download_menu_2\u001b[0m \u001b[1;33m=\u001b[0m \u001b[0mdriver\u001b[0m\u001b[1;33m.\u001b[0m\u001b[0mfind_element\u001b[0m\u001b[1;33m(\u001b[0m\u001b[0mBy\u001b[0m\u001b[1;33m.\u001b[0m\u001b[0mID\u001b[0m\u001b[1;33m,\u001b[0m\u001b[1;34m'downloadMenuItem_text'\u001b[0m\u001b[1;33m)\u001b[0m\u001b[1;33m\u001b[0m\u001b[1;33m\u001b[0m\u001b[0m\n\u001b[1;32m---> 42\u001b[1;33m     \u001b[0mbutton_download_menu_2\u001b[0m\u001b[1;33m.\u001b[0m\u001b[0mclick\u001b[0m\u001b[1;33m(\u001b[0m\u001b[1;33m)\u001b[0m\u001b[1;33m\u001b[0m\u001b[1;33m\u001b[0m\u001b[0m\n\u001b[0m\u001b[0;32m     43\u001b[0m     \u001b[0mtime\u001b[0m\u001b[1;33m.\u001b[0m\u001b[0msleep\u001b[0m\u001b[1;33m(\u001b[0m\u001b[1;36m1\u001b[0m\u001b[1;33m)\u001b[0m\u001b[1;33m\u001b[0m\u001b[1;33m\u001b[0m\u001b[0m\n\u001b[0;32m     44\u001b[0m \u001b[1;33m\u001b[0m\u001b[0m\n",
      "\u001b[1;32mC:\\Users\\Dhorne\\.conda\\envs\\storage\\lib\\site-packages\\selenium\\webdriver\\remote\\webelement.py\u001b[0m in \u001b[0;36mclick\u001b[1;34m(self)\u001b[0m\n\u001b[0;32m     78\u001b[0m     \u001b[1;32mdef\u001b[0m \u001b[0mclick\u001b[0m\u001b[1;33m(\u001b[0m\u001b[0mself\u001b[0m\u001b[1;33m)\u001b[0m\u001b[1;33m:\u001b[0m\u001b[1;33m\u001b[0m\u001b[1;33m\u001b[0m\u001b[0m\n\u001b[0;32m     79\u001b[0m         \u001b[1;34m\"\"\"Clicks the element.\"\"\"\u001b[0m\u001b[1;33m\u001b[0m\u001b[1;33m\u001b[0m\u001b[0m\n\u001b[1;32m---> 80\u001b[1;33m         \u001b[0mself\u001b[0m\u001b[1;33m.\u001b[0m\u001b[0m_execute\u001b[0m\u001b[1;33m(\u001b[0m\u001b[0mCommand\u001b[0m\u001b[1;33m.\u001b[0m\u001b[0mCLICK_ELEMENT\u001b[0m\u001b[1;33m)\u001b[0m\u001b[1;33m\u001b[0m\u001b[1;33m\u001b[0m\u001b[0m\n\u001b[0m\u001b[0;32m     81\u001b[0m \u001b[1;33m\u001b[0m\u001b[0m\n\u001b[0;32m     82\u001b[0m     \u001b[1;32mdef\u001b[0m \u001b[0msubmit\u001b[0m\u001b[1;33m(\u001b[0m\u001b[0mself\u001b[0m\u001b[1;33m)\u001b[0m\u001b[1;33m:\u001b[0m\u001b[1;33m\u001b[0m\u001b[1;33m\u001b[0m\u001b[0m\n",
      "\u001b[1;32mC:\\Users\\Dhorne\\.conda\\envs\\storage\\lib\\site-packages\\selenium\\webdriver\\remote\\webelement.py\u001b[0m in \u001b[0;36m_execute\u001b[1;34m(self, command, params)\u001b[0m\n\u001b[0;32m    631\u001b[0m             \u001b[0mparams\u001b[0m \u001b[1;33m=\u001b[0m \u001b[1;33m{\u001b[0m\u001b[1;33m}\u001b[0m\u001b[1;33m\u001b[0m\u001b[1;33m\u001b[0m\u001b[0m\n\u001b[0;32m    632\u001b[0m         \u001b[0mparams\u001b[0m\u001b[1;33m[\u001b[0m\u001b[1;34m'id'\u001b[0m\u001b[1;33m]\u001b[0m \u001b[1;33m=\u001b[0m \u001b[0mself\u001b[0m\u001b[1;33m.\u001b[0m\u001b[0m_id\u001b[0m\u001b[1;33m\u001b[0m\u001b[1;33m\u001b[0m\u001b[0m\n\u001b[1;32m--> 633\u001b[1;33m         \u001b[1;32mreturn\u001b[0m \u001b[0mself\u001b[0m\u001b[1;33m.\u001b[0m\u001b[0m_parent\u001b[0m\u001b[1;33m.\u001b[0m\u001b[0mexecute\u001b[0m\u001b[1;33m(\u001b[0m\u001b[0mcommand\u001b[0m\u001b[1;33m,\u001b[0m \u001b[0mparams\u001b[0m\u001b[1;33m)\u001b[0m\u001b[1;33m\u001b[0m\u001b[1;33m\u001b[0m\u001b[0m\n\u001b[0m\u001b[0;32m    634\u001b[0m \u001b[1;33m\u001b[0m\u001b[0m\n\u001b[0;32m    635\u001b[0m     \u001b[1;32mdef\u001b[0m \u001b[0mfind_element\u001b[0m\u001b[1;33m(\u001b[0m\u001b[0mself\u001b[0m\u001b[1;33m,\u001b[0m \u001b[0mby\u001b[0m\u001b[1;33m=\u001b[0m\u001b[0mBy\u001b[0m\u001b[1;33m.\u001b[0m\u001b[0mID\u001b[0m\u001b[1;33m,\u001b[0m \u001b[0mvalue\u001b[0m\u001b[1;33m=\u001b[0m\u001b[1;32mNone\u001b[0m\u001b[1;33m)\u001b[0m\u001b[1;33m:\u001b[0m\u001b[1;33m\u001b[0m\u001b[1;33m\u001b[0m\u001b[0m\n",
      "\u001b[1;32mC:\\Users\\Dhorne\\.conda\\envs\\storage\\lib\\site-packages\\selenium\\webdriver\\remote\\webdriver.py\u001b[0m in \u001b[0;36mexecute\u001b[1;34m(self, driver_command, params)\u001b[0m\n\u001b[0;32m    319\u001b[0m         \u001b[0mresponse\u001b[0m \u001b[1;33m=\u001b[0m \u001b[0mself\u001b[0m\u001b[1;33m.\u001b[0m\u001b[0mcommand_executor\u001b[0m\u001b[1;33m.\u001b[0m\u001b[0mexecute\u001b[0m\u001b[1;33m(\u001b[0m\u001b[0mdriver_command\u001b[0m\u001b[1;33m,\u001b[0m \u001b[0mparams\u001b[0m\u001b[1;33m)\u001b[0m\u001b[1;33m\u001b[0m\u001b[1;33m\u001b[0m\u001b[0m\n\u001b[0;32m    320\u001b[0m         \u001b[1;32mif\u001b[0m \u001b[0mresponse\u001b[0m\u001b[1;33m:\u001b[0m\u001b[1;33m\u001b[0m\u001b[1;33m\u001b[0m\u001b[0m\n\u001b[1;32m--> 321\u001b[1;33m             \u001b[0mself\u001b[0m\u001b[1;33m.\u001b[0m\u001b[0merror_handler\u001b[0m\u001b[1;33m.\u001b[0m\u001b[0mcheck_response\u001b[0m\u001b[1;33m(\u001b[0m\u001b[0mresponse\u001b[0m\u001b[1;33m)\u001b[0m\u001b[1;33m\u001b[0m\u001b[1;33m\u001b[0m\u001b[0m\n\u001b[0m\u001b[0;32m    322\u001b[0m             response['value'] = self._unwrap_value(\n\u001b[0;32m    323\u001b[0m                 response.get('value', None))\n",
      "\u001b[1;32mC:\\Users\\Dhorne\\.conda\\envs\\storage\\lib\\site-packages\\selenium\\webdriver\\remote\\errorhandler.py\u001b[0m in \u001b[0;36mcheck_response\u001b[1;34m(self, response)\u001b[0m\n\u001b[0;32m    240\u001b[0m                 \u001b[0malert_text\u001b[0m \u001b[1;33m=\u001b[0m \u001b[0mvalue\u001b[0m\u001b[1;33m[\u001b[0m\u001b[1;34m'alert'\u001b[0m\u001b[1;33m]\u001b[0m\u001b[1;33m.\u001b[0m\u001b[0mget\u001b[0m\u001b[1;33m(\u001b[0m\u001b[1;34m'text'\u001b[0m\u001b[1;33m)\u001b[0m\u001b[1;33m\u001b[0m\u001b[1;33m\u001b[0m\u001b[0m\n\u001b[0;32m    241\u001b[0m             \u001b[1;32mraise\u001b[0m \u001b[0mexception_class\u001b[0m\u001b[1;33m(\u001b[0m\u001b[0mmessage\u001b[0m\u001b[1;33m,\u001b[0m \u001b[0mscreen\u001b[0m\u001b[1;33m,\u001b[0m \u001b[0mstacktrace\u001b[0m\u001b[1;33m,\u001b[0m \u001b[0malert_text\u001b[0m\u001b[1;33m)\u001b[0m\u001b[1;33m\u001b[0m\u001b[1;33m\u001b[0m\u001b[0m\n\u001b[1;32m--> 242\u001b[1;33m         \u001b[1;32mraise\u001b[0m \u001b[0mexception_class\u001b[0m\u001b[1;33m(\u001b[0m\u001b[0mmessage\u001b[0m\u001b[1;33m,\u001b[0m \u001b[0mscreen\u001b[0m\u001b[1;33m,\u001b[0m \u001b[0mstacktrace\u001b[0m\u001b[1;33m)\u001b[0m\u001b[1;33m\u001b[0m\u001b[1;33m\u001b[0m\u001b[0m\n\u001b[0m\u001b[0;32m    243\u001b[0m \u001b[1;33m\u001b[0m\u001b[0m\n\u001b[0;32m    244\u001b[0m     \u001b[1;32mdef\u001b[0m \u001b[0m_value_or_default\u001b[0m\u001b[1;33m(\u001b[0m\u001b[0mself\u001b[0m\u001b[1;33m,\u001b[0m \u001b[0mobj\u001b[0m\u001b[1;33m,\u001b[0m \u001b[0mkey\u001b[0m\u001b[1;33m,\u001b[0m \u001b[0mdefault\u001b[0m\u001b[1;33m)\u001b[0m\u001b[1;33m:\u001b[0m\u001b[1;33m\u001b[0m\u001b[1;33m\u001b[0m\u001b[0m\n",
      "\u001b[1;31mElementNotInteractableException\u001b[0m: Message: Element <td id=\"downloadMenuItem_text\" class=\"dijitReset dijitMenuItemLabel\"> could not be scrolled into view\n"
     ]
    }
   ],
   "source": [
    "for date_start in [1990,2000,2010]:\n",
    "\n",
    "    query_field.click()\n",
    "    write_query(example_query(date_start, date_start+9))\n",
    "    search()\n",
    "    # Wait for query\n",
    "    wait(By.CLASS_NAME, 'CodeMirror')\n",
    "    print(find_nb_rows(), 'entries found')\n",
    "    count_downloads = prepare_download()\n",
    "    # Wait for preparation\n",
    "    #wait(By.ID, 'download_text')\n",
    "    download_all()\n",
    "    close_dialog()\n",
    "    \n",
    "    # rename the downloads\n",
    "    download_path = Path('C:/Users/Dhorne/Downloads')\n",
    "    \n",
    "    time.sleep(10)\n",
    "    downloaded_files = [file for file in download_path.iterdir() if 'resulttable' in file.name]\n",
    "    \n",
    "    identifier = str(date_start)+'_'+str(date_start+9)\n",
    "\n",
    "    if count_downloads != len(downloaded_files):\n",
    "        print('Found', len(downloaded_files),'files, expected', count_downloads)\n",
    "    else:\n",
    "        if len(downloaded_files) == 1:\n",
    "            os.rename(downloaded_files[0], str(downloaded_files[0].parent)+'/'+identifier+downloaded_files[0].suffix)\n",
    "        else:\n",
    "            count = 1\n",
    "            for file in downloaded_files:\n",
    "                os.rename(file, str(file.parent)+'/'+identifier+'_'+str(count)+file.suffix)\n",
    "                count += 1\n",
    "                \n",
    "    clear_all_downloads()"
   ]
  },
  {
   "cell_type": "code",
   "execution_count": null,
   "metadata": {},
   "outputs": [],
   "source": []
  }
 ],
 "metadata": {
  "kernelspec": {
   "display_name": "Python 3",
   "language": "python",
   "name": "python3"
  },
  "language_info": {
   "codemirror_mode": {
    "name": "ipython",
    "version": 3
   },
   "file_extension": ".py",
   "mimetype": "text/x-python",
   "name": "python",
   "nbconvert_exporter": "python",
   "pygments_lexer": "ipython3",
   "version": "3.6.13"
  },
  "latex_envs": {
   "LaTeX_envs_menu_present": true,
   "autoclose": false,
   "autocomplete": true,
   "bibliofile": "biblio.bib",
   "cite_by": "apalike",
   "current_citInitial": 1,
   "eqLabelWithNumbers": true,
   "eqNumInitial": 1,
   "hotkeys": {
    "equation": "Ctrl-E",
    "itemize": "Ctrl-I"
   },
   "labels_anchors": false,
   "latex_user_defs": false,
   "report_style_numbering": false,
   "user_envs_cfg": false
  },
  "toc": {
   "base_numbering": 1,
   "nav_menu": {},
   "number_sections": true,
   "sideBar": true,
   "skip_h1_title": false,
   "title_cell": "Table of Contents",
   "title_sidebar": "Contents",
   "toc_cell": false,
   "toc_position": {},
   "toc_section_display": true,
   "toc_window_display": false
  },
  "varInspector": {
   "cols": {
    "lenName": 16,
    "lenType": 16,
    "lenVar": 40
   },
   "kernels_config": {
    "python": {
     "delete_cmd_postfix": "",
     "delete_cmd_prefix": "del ",
     "library": "var_list.py",
     "varRefreshCmd": "print(var_dic_list())"
    },
    "r": {
     "delete_cmd_postfix": ") ",
     "delete_cmd_prefix": "rm(",
     "library": "var_list.r",
     "varRefreshCmd": "cat(var_dic_list()) "
    }
   },
   "types_to_exclude": [
    "module",
    "function",
    "builtin_function_or_method",
    "instance",
    "_Feature"
   ],
   "window_display": false
  }
 },
 "nbformat": 4,
 "nbformat_minor": 4
}

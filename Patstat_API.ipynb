{
 "cells": [
  {
   "cell_type": "code",
   "execution_count": 1,
   "metadata": {
    "ExecuteTime": {
     "end_time": "2022-12-09T10:15:11.121854Z",
     "start_time": "2022-12-09T10:15:10.353781Z"
    }
   },
   "outputs": [],
   "source": [
    "from selenium import webdriver\n",
    "from selenium.webdriver.common.by import By\n",
    "from selenium.webdriver.common.keys import Keys\n",
    "import time\n",
    "import pandas as pd\n",
    "import numpy as np\n",
    "from pathlib import Path\n",
    "import os\n",
    "import itertools\n",
    "import threading\n",
    "import sys"
   ]
  },
  {
   "cell_type": "code",
   "execution_count": 2,
   "metadata": {
    "ExecuteTime": {
     "end_time": "2022-12-09T10:15:11.233078Z",
     "start_time": "2022-12-09T10:15:11.124846Z"
    }
   },
   "outputs": [],
   "source": [
    "def initialize_patstat():\n",
    "    \"\"\"\n",
    "    Function to initialize Pastat with Selenium\n",
    "    \"\"\"\n",
    "    \n",
    "    initialized = False\n",
    "    #Waiting animation\n",
    "    def animate():\n",
    "        for c in itertools.cycle(['   ','.  ', '.. ', '...']):\n",
    "            if initialized:\n",
    "                break\n",
    "            sys.stdout.write('\\rInitializing Patstat, please wait' + c)\n",
    "            sys.stdout.flush()\n",
    "            time.sleep(0.5)\n",
    "        sys.stdout.write('\\nPatstat initialized.')\n",
    "\n",
    "    t = threading.Thread(target=animate, daemon=True)\n",
    "    t.start()\n",
    "    \n",
    "    #Browser exposes an executable file\n",
    "    #Through Selenium test we will invoke the executable file which will then invoke actual browser\n",
    "    driver = webdriver.Firefox(executable_path=\"C:\\Program Files\\Mozilla Firefox\\geckodriver.exe\")\n",
    "    # Maximize the browser window\n",
    "    driver.maximize_window()\n",
    "    # Method to launch the URL\n",
    "    URL = driver.get(\"https://data.epo.org/expert-services/\")\n",
    "    # Close PatStat warning message\n",
    "    time.sleep(1)\n",
    "    while len([el for el in driver.find_elements(By.ID, 'dijit_form_Button_0_label') if 'Close' in el.text]) != 1:\n",
    "        pass\n",
    "    button_Close = [el for el in driver.find_elements(By.ID, 'dijit_form_Button_0_label') if 'Close' in el.text][0]\n",
    "    button_Close.click()\n",
    "    time.sleep(1)\n",
    "    \n",
    "    # Connect to Patstat using the credentials\n",
    "    \n",
    "    username='contact@chaireeconomieduclimat.org'\n",
    "    password='cLnI7ZDA'\n",
    "    \n",
    "    button_Username = driver.find_element(By.ID,'username')\n",
    "    button_Username.click()\n",
    "    button_Username.send_keys(username)\n",
    "    button_Password = driver.find_element(By.ID,'password')\n",
    "    button_Password.click()\n",
    "    button_Password.send_keys(password)\n",
    "\n",
    "    button_Log_in = driver.find_element(By.ID,'buttonLogin_label').click()\n",
    "    time.sleep(1)\n",
    "\n",
    "    # PatStat Spring 2022\n",
    "    objects = [el for el in driver.find_elements(By.CLASS_NAME, 'fullPart') if 'PATSTAT Online' in el.text]\n",
    "    for obj in objects:\n",
    "        try:\n",
    "            obj.click()\n",
    "            break\n",
    "        except:\n",
    "            pass\n",
    "\n",
    "    # Go to the tab Table\n",
    "    go_to_Table = driver.find_element(By.ID,'goToTableLink')\n",
    "    go_to_Table.click()\n",
    "    time.sleep(1)\n",
    "\n",
    "    # Look for the query field in the elements of the page\n",
    "    list_el = [el for el in driver.find_elements_by_xpath('//*') if 'tls201' in el.text]\n",
    "    \n",
    "    #If the function does not work, maybe the idenfication of the query field is wrong.\n",
    "    #The second element (index 1) has been identified as the good one in previous trials.\n",
    "    #Try to set query_el = range(len(list_el)) or identify the right element corresponding to the query field,\n",
    "    #within 0 to len(list_el).\n",
    "    \n",
    "    query_field = list_el[1]\n",
    "    list_query_field_click = [list_el[i] for i in range(13,22)]\n",
    "    \n",
    "    initialized = True\n",
    "    \n",
    "    return driver, query_field, list_query_field_click"
   ]
  },
  {
   "cell_type": "code",
   "execution_count": 3,
   "metadata": {
    "ExecuteTime": {
     "end_time": "2022-12-09T10:15:11.249040Z",
     "start_time": "2022-12-09T10:15:11.236071Z"
    }
   },
   "outputs": [],
   "source": [
    "def write_query(text):\n",
    "    \"\"\"\n",
    "    Writes text to the query field.\n",
    "    \"\"\"\n",
    "    query_field.click()\n",
    "    try:\n",
    "        #try_click(By.CLASS_NAME,'CodeMirror')\n",
    "        query_field.click()\n",
    "        #time.sleep(1)\n",
    "        query_field.send_keys(Keys.CONTROL + \"a\")\n",
    "        query_field.send_keys(text)\n",
    "    except:\n",
    "        pass"
   ]
  },
  {
   "cell_type": "code",
   "execution_count": 4,
   "metadata": {
    "ExecuteTime": {
     "end_time": "2022-12-09T10:15:11.279473Z",
     "start_time": "2022-12-09T10:15:11.252032Z"
    }
   },
   "outputs": [],
   "source": [
    "def try_click(by_what, text_search, condition=None, display=True):\n",
    "    \"\"\"\n",
    "    A function that tries to click elements of type 'by_what' which names contain 'text_search'\n",
    "    \"\"\"\n",
    "    # Look for elements\n",
    "    objects = driver.find_elements(by_what, text_search)\n",
    "    \n",
    "    if condition:\n",
    "        objects = [el for el in objects if condition in el.text]\n",
    "    \n",
    "    count = 0\n",
    "    clicked_object = None\n",
    "    \n",
    "    # Try to click on found elements\n",
    "    for obj in objects:\n",
    "        try:\n",
    "            obj.click()\n",
    "            clicked_object = obj\n",
    "            break\n",
    "        except:\n",
    "            count += 1\n",
    "            pass\n",
    "    if count == len(objects) and display:\n",
    "        print('No element clicked')\n",
    "    return clicked_object"
   ]
  },
  {
   "cell_type": "code",
   "execution_count": 5,
   "metadata": {
    "ExecuteTime": {
     "end_time": "2022-12-09T10:15:11.295430Z",
     "start_time": "2022-12-09T10:15:11.282465Z"
    }
   },
   "outputs": [],
   "source": [
    "def download_all():\n",
    "    \"\"\"\n",
    "    A function that downloads all files.\n",
    "    \"\"\"\n",
    "    \n",
    "    button_download_menu = driver.find_element(By.ID,'download_text')\n",
    "    button_download_menu.click()\n",
    "    time.sleep(0.5)\n",
    "    button_download_menu_2 = driver.find_element(By.ID,'downloadManagerMenuItem_text')\n",
    "    button_download_menu_2.click()\n",
    "    \n",
    "    while len([q for q in driver.find_elements(By.CLASS_NAME, 'exportStatusMessage') if 'Ready' in q.text]) != 1:\n",
    "        pass\n",
    "    \n",
    "    for download_button in driver.find_elements(By.XPATH,\"//*[contains(@class, 'buttonDownloadSave') and not(contains(@class, 'buttonDownloadDelete'))]\"):\n",
    "        try:\n",
    "            download_button.click()\n",
    "        except:\n",
    "            pass"
   ]
  },
  {
   "cell_type": "code",
   "execution_count": 6,
   "metadata": {
    "ExecuteTime": {
     "end_time": "2022-12-09T10:15:11.437567Z",
     "start_time": "2022-12-09T10:15:11.404655Z"
    }
   },
   "outputs": [],
   "source": [
    "show_again = True\n",
    "def clear_all_downloads():\n",
    "    \"\"\"\n",
    "    Clears all the downloads.\n",
    "    \"\"\"\n",
    "    \n",
    "    global show_again\n",
    "    \n",
    "    button_download_menu = driver.find_element(By.ID,'download_text')\n",
    "    button_download_menu.click()\n",
    "    time.sleep(1)\n",
    "    button_download_menu_2 = driver.find_element(By.ID,'downloadManagerMenuItem_text')\n",
    "    button_download_menu_2.click()\n",
    "    time.sleep(1)\n",
    "    try_click(By.CLASS_NAME, 'dijitReset', condition='Clear list', display=False)\n",
    "    \n",
    "    # Clicking the confirmation dialogue\n",
    "    if show_again:\n",
    "        try_click(By.CLASS_NAME, 'doNotShowAgain', display=False)\n",
    "        try_click(By.CLASS_NAME, 'dijitReset', condition='Yes', display=False)\n",
    "        show_again = False\n",
    "\n",
    "    # Closing the download manager\n",
    "    close_dialogue()"
   ]
  },
  {
   "cell_type": "code",
   "execution_count": 7,
   "metadata": {
    "ExecuteTime": {
     "end_time": "2022-12-09T10:15:11.578228Z",
     "start_time": "2022-12-09T10:15:11.571247Z"
    }
   },
   "outputs": [],
   "source": [
    "def close_dialogue():\n",
    "    \"\"\"\n",
    "    Function to close any dialogue.\n",
    "    \"\"\"\n",
    "    for close_button in driver.find_elements(By.CLASS_NAME,'dijitDialogCloseIcon'):\n",
    "        try:\n",
    "            close_button.click()\n",
    "        except:\n",
    "            pass"
   ]
  },
  {
   "cell_type": "code",
   "execution_count": 8,
   "metadata": {
    "ExecuteTime": {
     "end_time": "2022-12-09T10:15:11.752285Z",
     "start_time": "2022-12-09T10:15:11.739316Z"
    }
   },
   "outputs": [],
   "source": [
    "def search():\n",
    "    \"\"\"\n",
    "    Function to launch the query.\n",
    "    \"\"\"\n",
    "    _ = try_click(By.ID,'queryBlockContentResultTable_btLaunchQuery')"
   ]
  },
  {
   "cell_type": "code",
   "execution_count": 9,
   "metadata": {
    "ExecuteTime": {
     "end_time": "2022-12-09T10:15:11.955779Z",
     "start_time": "2022-12-09T10:15:11.935829Z"
    }
   },
   "outputs": [],
   "source": [
    "def find_nb_rows():\n",
    "    \"\"\"\n",
    "    Function to find the number of rows of a query. Uses the red figure displayed on the top left.\n",
    "    \"\"\"\n",
    "    try:\n",
    "        idx = driver.page_source.find(' rows')\n",
    "        text_around = driver.page_source[idx-100:idx]\n",
    "        idx = text_around.find(\"\"\"\"onDblClick:stopEvent\">\"\"\")\n",
    "        text_around = text_around[idx+23:]\n",
    "        nb_rows = int(text_around.replace(\"&nbsp;\",''))\n",
    "        return nb_rows\n",
    "    \n",
    "    except ValueError:\n",
    "        print('No query found.')"
   ]
  },
  {
   "cell_type": "code",
   "execution_count": 10,
   "metadata": {
    "ExecuteTime": {
     "end_time": "2022-12-09T10:15:12.223621Z",
     "start_time": "2022-12-09T10:15:12.151301Z"
    }
   },
   "outputs": [],
   "source": [
    "def prepare_download():\n",
    "    \"\"\"\n",
    "    Function to prepare the download of the actual query.\n",
    "    \"\"\"\n",
    "    \n",
    "    nb_rows = find_nb_rows()\n",
    "    delta_row = 700000 # maximum entry for a download in Patstat\n",
    "    row = 1\n",
    "    count_downloads = 0\n",
    "    while row + delta_row < nb_rows:\n",
    "        \n",
    "        count_downloads += 1\n",
    "\n",
    "        button_download_menu = driver.find_element(By.ID,'download_text')\n",
    "        button_download_menu.click()\n",
    "        time.sleep(1)\n",
    "        button_download_menu_2 = driver.find_element(By.ID,'downloadMenuItem_text')\n",
    "        button_download_menu_2.click()\n",
    "        time.sleep(1)\n",
    "\n",
    "        content_from = driver.find_element(By.ID,'dijit_form_TextBox_1')\n",
    "        content_from.click()\n",
    "        content_from.send_keys(Keys.CONTROL + \"a\") #select all\n",
    "        content_from.send_keys(row)\n",
    "\n",
    "        content_to = driver.find_element(By.ID,'dijit_form_TextBox_2')\n",
    "        content_to.click()\n",
    "        content_to.send_keys(Keys.CONTROL + \"a\") #select all\n",
    "        content_to.send_keys(row+delta_row-1)\n",
    "\n",
    "        button_OK = driver.find_element(By.ID,'btDownload_label').click()\n",
    "\n",
    "        row += delta_row\n",
    "\n",
    "        time.sleep(1)\n",
    "\n",
    "    # Last query\n",
    "    \n",
    "    count_downloads += 1\n",
    "\n",
    "    button_download_menu = driver.find_element(By.ID,'download_text')\n",
    "    button_download_menu.click()\n",
    "    time.sleep(1)\n",
    "    button_download_menu_2 = driver.find_element(By.ID,'downloadMenuItem_text')\n",
    "    button_download_menu_2.click()\n",
    "    time.sleep(1)\n",
    "\n",
    "    content_from = driver.find_element(By.ID,'dijit_form_TextBox_1')\n",
    "    content_from.click()\n",
    "    content_from.send_keys(Keys.CONTROL + \"a\") #select all\n",
    "    content_from.send_keys(row)\n",
    "\n",
    "    content_to = driver.find_element(By.ID,'dijit_form_TextBox_2')\n",
    "    content_to.click()\n",
    "    content_to.send_keys(Keys.CONTROL + \"a\") #select all\n",
    "    content_to.send_keys(nb_rows)\n",
    "\n",
    "    button_OK = driver.find_element(By.ID,'btDownload_label').click()\n",
    "    \n",
    "    print(count_downloads,'download(s) ready')\n",
    "    return count_downloads"
   ]
  },
  {
   "cell_type": "code",
   "execution_count": 11,
   "metadata": {
    "ExecuteTime": {
     "end_time": "2022-12-09T10:15:12.727868Z",
     "start_time": "2022-12-09T10:15:12.707922Z"
    }
   },
   "outputs": [],
   "source": [
    "def wait():\n",
    "    '''\n",
    "    A function that waits for a task to end on Patstat.\n",
    "    \n",
    "    The screen usually darken while some tasks are performed on Patstat,\n",
    "    preventing the background to be interacted with.\n",
    "    This function simply tries to interact with the background continuously.\n",
    "    If it is not available, the tasks are considered to be still in progress.\n",
    "    '''\n",
    "    \n",
    "    flag = True\n",
    "    while flag:\n",
    "        try:\n",
    "            list_query_field_click[0].click()\n",
    "            flag = False\n",
    "            break\n",
    "        except:\n",
    "            pass\n"
   ]
  },
  {
   "cell_type": "markdown",
   "metadata": {},
   "source": [
    "In the following example, the script launches three different queries. One for the patent count between 1990 and 1999, one between 2000 and 2009, and the last one between 2010 and 2019. Notice that this could have been done in one shot, from 1990 to 2019, but this just serves as an example here."
   ]
  },
  {
   "cell_type": "code",
   "execution_count": 12,
   "metadata": {
    "ExecuteTime": {
     "end_time": "2022-12-09T10:16:55.484439Z",
     "start_time": "2022-12-09T10:15:13.392711Z"
    }
   },
   "outputs": [
    {
     "name": "stdout",
     "output_type": "stream",
     "text": [
      "Initializing Patstat, please wait   \n",
      "Patstat initialized.\n",
      "Check if the word TEST is displayed in the query field.\n"
     ]
    }
   ],
   "source": [
    "driver, query_field, list_query_field_click = initialize_patstat()\n",
    "\n",
    "# If TEST is displayed in the query field. Identification worked properly.\n",
    "write_query('TEST')\n",
    "print('\\nCheck if the word TEST is displayed in the query field.')"
   ]
  },
  {
   "cell_type": "code",
   "execution_count": 13,
   "metadata": {
    "ExecuteTime": {
     "end_time": "2022-12-09T10:17:44.343880Z",
     "start_time": "2022-12-09T10:17:44.325421Z"
    }
   },
   "outputs": [],
   "source": [
    "def example_query(date_start, date_end):\n",
    "    text = f\"\"\"\n",
    "SELECT a.appln_filing_year, COUNT(DISTINCT a.appln_id) AS NumberOfPatentApplications\n",
    "FROM tls201_appln a\n",
    "JOIN tls209_appln_ipc i ON a.appln_id = i.appln_id\n",
    "WHERE i.ipc_class_symbol LIKE 'B08B%' -- Change IPC symbol here\n",
    "AND a.appln_filing_year BETWEEN {str(date_start)} AND {str(date_end)} -- Define year range here\n",
    "GROUP BY a.appln_filing_year\n",
    "ORDER BY a.appln_filing_year\n",
    "\"\"\"\n",
    "    return text"
   ]
  },
  {
   "cell_type": "code",
   "execution_count": 14,
   "metadata": {
    "ExecuteTime": {
     "end_time": "2022-12-09T10:17:45.360305Z",
     "start_time": "2022-12-09T10:17:45.347341Z"
    },
    "scrolled": true
   },
   "outputs": [
    {
     "name": "stdout",
     "output_type": "stream",
     "text": [
      "\n",
      "SELECT a.appln_filing_year, COUNT(DISTINCT a.appln_id) AS NumberOfPatentApplications\n",
      "FROM tls201_appln a\n",
      "JOIN tls209_appln_ipc i ON a.appln_id = i.appln_id\n",
      "WHERE i.ipc_class_symbol LIKE 'B08B%' -- Change IPC symbol here\n",
      "AND a.appln_filing_year BETWEEN 2012 AND 2013 -- Define year range here\n",
      "GROUP BY a.appln_filing_year\n",
      "ORDER BY a.appln_filing_year\n",
      "\n"
     ]
    }
   ],
   "source": [
    "print(example_query(2012,2013))"
   ]
  },
  {
   "cell_type": "code",
   "execution_count": 18,
   "metadata": {
    "ExecuteTime": {
     "end_time": "2022-12-09T10:23:27.263192Z",
     "start_time": "2022-12-09T10:23:03.707189Z"
    }
   },
   "outputs": [
    {
     "name": "stdout",
     "output_type": "stream",
     "text": [
      "10 entries found\n",
      "1 download(s) ready\n"
     ]
    },
    {
     "ename": "FileExistsError",
     "evalue": "[WinError 183] Impossible de créer un fichier déjà existant: 'C:\\\\Users\\\\Dhorne\\\\Downloads\\\\resulttable-20221209112325.zip' -> 'C:\\\\Users\\\\Dhorne\\\\Downloads/1990_1999.zip'",
     "output_type": "error",
     "traceback": [
      "\u001b[1;31m---------------------------------------------------------------------------\u001b[0m",
      "\u001b[1;31mFileExistsError\u001b[0m                           Traceback (most recent call last)",
      "\u001b[1;32m<ipython-input-18-91827528562c>\u001b[0m in \u001b[0;36m<module>\u001b[1;34m()\u001b[0m\n\u001b[0;32m     41\u001b[0m     \u001b[1;32melse\u001b[0m\u001b[1;33m:\u001b[0m\u001b[1;33m\u001b[0m\u001b[1;33m\u001b[0m\u001b[0m\n\u001b[0;32m     42\u001b[0m         \u001b[1;32mif\u001b[0m \u001b[0mlen\u001b[0m\u001b[1;33m(\u001b[0m\u001b[0mdownloaded_files\u001b[0m\u001b[1;33m)\u001b[0m \u001b[1;33m==\u001b[0m \u001b[1;36m1\u001b[0m\u001b[1;33m:\u001b[0m\u001b[1;33m\u001b[0m\u001b[1;33m\u001b[0m\u001b[0m\n\u001b[1;32m---> 43\u001b[1;33m             \u001b[0mos\u001b[0m\u001b[1;33m.\u001b[0m\u001b[0mrename\u001b[0m\u001b[1;33m(\u001b[0m\u001b[0mdownloaded_files\u001b[0m\u001b[1;33m[\u001b[0m\u001b[1;36m0\u001b[0m\u001b[1;33m]\u001b[0m\u001b[1;33m,\u001b[0m \u001b[0mstr\u001b[0m\u001b[1;33m(\u001b[0m\u001b[0mdownloaded_files\u001b[0m\u001b[1;33m[\u001b[0m\u001b[1;36m0\u001b[0m\u001b[1;33m]\u001b[0m\u001b[1;33m.\u001b[0m\u001b[0mparent\u001b[0m\u001b[1;33m)\u001b[0m\u001b[1;33m+\u001b[0m\u001b[1;34m'/'\u001b[0m\u001b[1;33m+\u001b[0m\u001b[0midentifier\u001b[0m\u001b[1;33m+\u001b[0m\u001b[0mdownloaded_files\u001b[0m\u001b[1;33m[\u001b[0m\u001b[1;36m0\u001b[0m\u001b[1;33m]\u001b[0m\u001b[1;33m.\u001b[0m\u001b[0msuffix\u001b[0m\u001b[1;33m)\u001b[0m\u001b[1;33m\u001b[0m\u001b[1;33m\u001b[0m\u001b[0m\n\u001b[0m\u001b[0;32m     44\u001b[0m         \u001b[1;32melse\u001b[0m\u001b[1;33m:\u001b[0m\u001b[1;33m\u001b[0m\u001b[1;33m\u001b[0m\u001b[0m\n\u001b[0;32m     45\u001b[0m             \u001b[0mcount\u001b[0m \u001b[1;33m=\u001b[0m \u001b[1;36m1\u001b[0m\u001b[1;33m\u001b[0m\u001b[1;33m\u001b[0m\u001b[0m\n",
      "\u001b[1;31mFileExistsError\u001b[0m: [WinError 183] Impossible de créer un fichier déjà existant: 'C:\\\\Users\\\\Dhorne\\\\Downloads\\\\resulttable-20221209112325.zip' -> 'C:\\\\Users\\\\Dhorne\\\\Downloads/1990_1999.zip'"
     ]
    }
   ],
   "source": [
    "clear_all_downloads()\n",
    "\n",
    "for date_start in [1990,2000,2010]:\n",
    "\n",
    "    wait()\n",
    "    \n",
    "    # Write the query to the field\n",
    "    write_query(example_query(date_start, date_start+9))\n",
    "    \n",
    "    # Launch the query\n",
    "    search()\n",
    "    \n",
    "    # Wait for query to end\n",
    "    wait()\n",
    "    print(find_nb_rows(), 'entries found')\n",
    "    \n",
    "    # Prepare downloads of the actual query\n",
    "    count_downloads = prepare_download()\n",
    "    \n",
    "    # Wait for preparation and download all\n",
    "    wait()\n",
    "    download_all()\n",
    "    close_dialogue()\n",
    "    \n",
    "    # Rename the downloads\n",
    "    \n",
    "    # Folder in which files are downloaded\n",
    "    download_path = Path('C:/Users/Dhorne/Downloads')\n",
    "    \n",
    "    # Wait for the download to end\n",
    "    while len([file for file in download_path.iterdir() if 'resulttable' in file.name]) == 0:\n",
    "        pass\n",
    "    downloaded_files = [file for file in download_path.iterdir() if 'resulttable' in file.name]\n",
    "    \n",
    "    # Identifier to rename the generic file name. Here, the queries correspond to different dates.\n",
    "    # Dates are therefore used to rename the files (do not use 'resulttable' in the name!)\n",
    "    identifier = str(date_start)+'_'+str(date_start+9)\n",
    "\n",
    "    if count_downloads != len(downloaded_files):\n",
    "        raise Exception('Found '+str(len(downloaded_files))+' files, expected '+str(count_downloads))\n",
    "    else:\n",
    "        if len(downloaded_files) == 1:\n",
    "            os.rename(downloaded_files[0], str(downloaded_files[0].parent)+'/'+identifier+downloaded_files[0].suffix)\n",
    "        else:\n",
    "            count = 1\n",
    "            for file in downloaded_files:\n",
    "                os.rename(file, str(file.parent)+'/'+identifier+'_'+str(count)+file.suffix)\n",
    "                count += 1\n",
    "                \n",
    "    clear_all_downloads()"
   ]
  },
  {
   "cell_type": "code",
   "execution_count": null,
   "metadata": {},
   "outputs": [],
   "source": []
  }
 ],
 "metadata": {
  "kernelspec": {
   "display_name": "Python 3",
   "language": "python",
   "name": "python3"
  },
  "language_info": {
   "codemirror_mode": {
    "name": "ipython",
    "version": 3
   },
   "file_extension": ".py",
   "mimetype": "text/x-python",
   "name": "python",
   "nbconvert_exporter": "python",
   "pygments_lexer": "ipython3",
   "version": "3.6.13"
  },
  "latex_envs": {
   "LaTeX_envs_menu_present": true,
   "autoclose": false,
   "autocomplete": true,
   "bibliofile": "biblio.bib",
   "cite_by": "apalike",
   "current_citInitial": 1,
   "eqLabelWithNumbers": true,
   "eqNumInitial": 1,
   "hotkeys": {
    "equation": "Ctrl-E",
    "itemize": "Ctrl-I"
   },
   "labels_anchors": false,
   "latex_user_defs": false,
   "report_style_numbering": false,
   "user_envs_cfg": false
  },
  "toc": {
   "base_numbering": 1,
   "nav_menu": {},
   "number_sections": true,
   "sideBar": true,
   "skip_h1_title": false,
   "title_cell": "Table of Contents",
   "title_sidebar": "Contents",
   "toc_cell": false,
   "toc_position": {},
   "toc_section_display": true,
   "toc_window_display": false
  },
  "varInspector": {
   "cols": {
    "lenName": 16,
    "lenType": 16,
    "lenVar": 40
   },
   "kernels_config": {
    "python": {
     "delete_cmd_postfix": "",
     "delete_cmd_prefix": "del ",
     "library": "var_list.py",
     "varRefreshCmd": "print(var_dic_list())"
    },
    "r": {
     "delete_cmd_postfix": ") ",
     "delete_cmd_prefix": "rm(",
     "library": "var_list.r",
     "varRefreshCmd": "cat(var_dic_list()) "
    }
   },
   "types_to_exclude": [
    "module",
    "function",
    "builtin_function_or_method",
    "instance",
    "_Feature"
   ],
   "window_display": false
  }
 },
 "nbformat": 4,
 "nbformat_minor": 4
}

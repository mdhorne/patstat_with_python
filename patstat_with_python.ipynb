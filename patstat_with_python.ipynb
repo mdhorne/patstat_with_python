{
 "cells": [
  {
   "cell_type": "code",
   "execution_count": null,
   "metadata": {
    "ExecuteTime": {
     "end_time": "2023-01-12T14:36:28.557138Z",
     "start_time": "2023-01-12T14:36:27.820618Z"
    }
   },
   "outputs": [],
   "source": [
    "from selenium import webdriver\n",
    "from selenium.webdriver.common.by import By\n",
    "from selenium.webdriver.common.keys import Keys\n",
    "import time\n",
    "import pandas as pd\n",
    "import numpy as np\n",
    "from pathlib import Path\n",
    "import os\n",
    "import itertools\n",
    "import threading\n",
    "import sys\n",
    "import pyperclip"
   ]
  },
  {
   "cell_type": "code",
   "execution_count": null,
   "metadata": {
    "ExecuteTime": {
     "end_time": "2023-01-12T14:36:30.736771Z",
     "start_time": "2023-01-12T14:36:30.705528Z"
    }
   },
   "outputs": [],
   "source": [
    "# Patstat credentials\n",
    "\n",
    "patstat_username = 'mail@domain.org'\n",
    "patstat_password = 'password'"
   ]
  },
  {
   "cell_type": "code",
   "execution_count": null,
   "metadata": {
    "ExecuteTime": {
     "end_time": "2023-01-12T14:36:31.269902Z",
     "start_time": "2023-01-12T14:36:31.238658Z"
    }
   },
   "outputs": [],
   "source": [
    "# Browser information:\n",
    "\n",
    "path_to_browser = {\n",
    "    'Firefox' : r'C:\\Program Files\\Mozilla Firefox\\firefox.exe',\n",
    "    'Edge' : r'C:\\Program Files (x86)\\Microsoft\\Edge\\Application\\msedge.exe',\n",
    "    'Chrome' : r\"C:\\Program Files\\Google\\Chrome\\Application\\chrome.exe\",\n",
    "    'Safari' : None,\n",
    "}\n",
    "\n",
    "# Path to web driver. For Firefox, Edge or Chrome, you have to download it. \n",
    "#See https://github.com/mdhorne/patstat_with_python\n",
    "\n",
    "path_to_web_driver = {\n",
    "    'Firefox' : r\"C:\\Program Files\\Mozilla Firefox\\geckodriver.exe\",\n",
    "    'Edge' : r\"C:\\Program Files (x86)\\Microsoft\\Edge\\Application\\msedgedriver.exe\",\n",
    "    'Chrome' :  r\"C:\\Program Files\\Google\\Chrome\\Application\\chromedriver.exe\",\n",
    "    'Safari' : None,\n",
    "}"
   ]
  },
  {
   "cell_type": "code",
   "execution_count": null,
   "metadata": {
    "ExecuteTime": {
     "end_time": "2023-01-12T14:36:31.662047Z",
     "start_time": "2023-01-12T14:36:31.521046Z"
    }
   },
   "outputs": [],
   "source": [
    "def initialize_patstat(browser):\n",
    "    \"\"\"\n",
    "    Function to initialize Pastat with Selenium\n",
    "    \"\"\"\n",
    "    \n",
    "    global driver\n",
    "    \n",
    "    #initialized = False\n",
    "    #Waiting animation\n",
    "    #def animate():\n",
    "    #    for c in itertools.cycle(['   ','.  ', '.. ', '...']):\n",
    "    #        if initialized:\n",
    "    #            break\n",
    "    #        sys.stdout.write('\\rInitializing Patstat, please wait' + c)\n",
    "    #        sys.stdout.flush()\n",
    "    #        time.sleep(0.5)\n",
    "    #    sys.stdout.write('\\nPatstat initialized.')\n",
    "    #t = threading.Thread(target=animate)#, daemon=True)\n",
    "    #t.start()\n",
    "        \n",
    "    #Through Selenium test we will invoke the executable file which will then invoke actual browser\n",
    "    if browser == 'Firefox':\n",
    "        options = webdriver.firefox.options.Options()\n",
    "        options.binary_location = path_to_browser[browser]\n",
    "        driver = webdriver.Firefox(executable_path=path_to_web_driver[browser], options=options)\n",
    "    elif browser == 'Edge':\n",
    "        driver = webdriver.Edge(executable_path=path_to_web_driver[browser])\n",
    "    elif browser == 'Chrome':\n",
    "        options = webdriver.chrome.options.Options()\n",
    "        driver = webdriver.Chrome(executable_path=path_to_web_driver[browser], options=options)\n",
    "    elif browser == 'Safari':\n",
    "        driver = webdriver.Safari(executable_path=path_to_web_driver[browser], options=options)\n",
    "    else:\n",
    "        raise Exception('Unknown browser')\n",
    "        \n",
    "    # Maximize the browser window\n",
    "    driver.maximize_window()\n",
    "    \n",
    "    # Method to launch the URL\n",
    "    URL = driver.get(\"https://data.epo.org/expert-services/\")\n",
    "    \n",
    "    # Close PatStat warning message\n",
    "\n",
    "    try_click(By.ID, 'dijit_form_Button_0_label', 'Close')\n",
    "#    while len([el for el in driver.find_elements(By.ID, 'dijit_form_Button_0_label') if 'Close' in el.text]) != 1:\n",
    "#        pass\n",
    "#    button_Close = [el for el in driver.find_elements(By.ID, 'dijit_form_Button_0_label') if 'Close' in el.text][0]\n",
    "#    button_Close.click()\n",
    "#    time.sleep(1)\n",
    "    \n",
    "    # Connect to Patstat using the credentials\n",
    "    \n",
    "    button_Username = try_click(By.ID, 'username')\n",
    "    button_Username.send_keys(patstat_username)\n",
    "    \n",
    "    button_Password = try_click(By.ID,'password')\n",
    "    button_Password.send_keys(patstat_password)\n",
    "\n",
    "    button_Log_in = try_click(By.ID,'buttonLogin_label')\n",
    "    \n",
    "    # Latest Patstat Online version\n",
    "    time.sleep(2)\n",
    "    try_click(By.CLASS_NAME, 'fullPart', 'PATSTAT Online')\n",
    "\n",
    "    # Go to the tab Table\n",
    "    time.sleep(2)\n",
    "    try_click(By.ID,'goToTableLink')\n",
    "\n",
    "    # Look for the query field in the elements of the page\n",
    "    #list_el = [el for el in driver.find_elements_by_xpath('//*') if 'tls201' in el.text] # would look for all elements\n",
    "    #query_field = list_el[1]\n",
    "    #list_query_field_click = [list_el[i] for i in range(13,22)]\n",
    "    #If the function does not work, maybe the idenfication of the query field is wrong.\n",
    "    #The second element (index 1) has been identified as the good one in previous trials.\n",
    "    #Try to set query_el = range(len(list_el)) or identify the right element corresponding to the query field,\n",
    "    #within 0 to len(list_el).\n",
    "    \n",
    "    query_field_click = [el for el in driver.find_elements_by_class_name('searchBlockBodyWithFooter') if 'tls201' in el.text]\n",
    "    if len(query_field_click) == 1:\n",
    "        query_field_click = query_field_click[0]\n",
    "    else:\n",
    "        raise Exception('Multiple possible query field clicks found')\n",
    "        \n",
    "    if browser == 'Chrome':\n",
    "        all_elements = [el for el in driver.find_elements_by_xpath('//*')] #listing all web elements of the page\n",
    "\n",
    "        text_areas = []\n",
    "\n",
    "        for i in range(len(all_elements)):\n",
    "            el = all_elements[i]\n",
    "            try:\n",
    "                if el.get_attribute('type')=='textarea': # if the web element is of type textarea, try interaction\n",
    "                    query_field_click.click()\n",
    "                    el.send_keys(Keys.CONTROL + \"a\")\n",
    "                    el.send_keys(str(i))\n",
    "                    el.send_keys(Keys.CONTROL + \"c\")\n",
    "                    copied_text = pyperclip.paste()\n",
    "                    if copied_text == str(i):\n",
    "                        query_field = el\n",
    "                        break\n",
    "            except:\n",
    "                pass\n",
    "    else:\n",
    "        query_field = [el for el in driver.find_elements_by_class_name('claro') if 'tls201' in el.text]\n",
    "        if len(query_field) == 1:\n",
    "            query_field = query_field[0]\n",
    "        else:\n",
    "            raise Exception('Multiple possible query fields found')\n",
    "    \n",
    "    #initialized = True\n",
    "    \n",
    "    return driver, query_field, query_field_click"
   ]
  },
  {
   "cell_type": "code",
   "execution_count": null,
   "metadata": {
    "ExecuteTime": {
     "end_time": "2023-01-12T14:39:39.467169Z",
     "start_time": "2023-01-12T14:39:39.435925Z"
    }
   },
   "outputs": [],
   "source": [
    "def write_query(text):\n",
    "    \"\"\"\n",
    "    Writes text to the query field.\n",
    "    \"\"\"\n",
    "    query_field_click.click()\n",
    "    try:\n",
    "        query_field_click.click()\n",
    "        query_field.send_keys(Keys.CONTROL + \"a\")\n",
    "        pyperclip.copy(text) #sends text to clipboard\n",
    "        query_field.send_keys(Keys.CONTROL + \"v\") #pastes text in the query file\n",
    "    except:\n",
    "        pass\n",
    "    \n",
    "#def write_query(text):\n",
    "#    \"\"\"\n",
    "#    Writes text to the query field.\n",
    "#    \"\"\"\n",
    "#    query_field.click()\n",
    "#    try:\n",
    "#        query_field.click()\n",
    "#        query_field.send_keys(Keys.CONTROL + \"a\")\n",
    "#        query_field.send_keys(text)\n",
    "#    except:\n",
    "#        pass"
   ]
  },
  {
   "cell_type": "code",
   "execution_count": null,
   "metadata": {
    "ExecuteTime": {
     "end_time": "2023-01-12T14:36:32.336089Z",
     "start_time": "2023-01-12T14:36:32.304845Z"
    }
   },
   "outputs": [],
   "source": [
    "def try_click(by_what, text_search, condition='', display=False):\n",
    "    \"\"\"\n",
    "    A function that continuously tries to click elements of type 'by_what' which names contain 'text_search'\n",
    "    \"\"\"\n",
    "    # Look for elements and keep waiting if none\n",
    "    while len([el for el in driver.find_elements(by_what, text_search) if condition in el.text]) == 0:\n",
    "        pass\n",
    "    \n",
    "    objects = [el for el in driver.find_elements(by_what, text_search) if condition in el.text]\n",
    "    \n",
    "    if len(objects) > 1 and display:\n",
    "        print(len(objects), 'objects found (',by_what,text_search,condition,')')\n",
    "    \n",
    "    count = 0\n",
    "    clicked_object = None\n",
    "    \n",
    "    # Try to click on found elements\n",
    "    for obj in objects:\n",
    "        try:\n",
    "            obj.click()\n",
    "            clicked_object = obj\n",
    "            if len(objects) == 1:\n",
    "                break\n",
    "        except:\n",
    "            count += 1\n",
    "            pass\n",
    "    if count == len(objects) and display:\n",
    "        print('No element clicked')\n",
    "    if len(objects) == 1:\n",
    "        return clicked_object\n",
    "    else:\n",
    "        return objects"
   ]
  },
  {
   "cell_type": "code",
   "execution_count": null,
   "metadata": {
    "ExecuteTime": {
     "end_time": "2023-01-12T14:36:32.524348Z",
     "start_time": "2023-01-12T14:36:32.508728Z"
    }
   },
   "outputs": [],
   "source": [
    "def download_all():\n",
    "    \"\"\"\n",
    "    A function that downloads all files.\n",
    "    \"\"\"\n",
    "    \n",
    "    try_click(By.ID,'download_text')\n",
    "    try_click(By.ID,'downloadManagerMenuItem_text')\n",
    "    \n",
    "    while len([q for q in driver.find_elements(By.CLASS_NAME, 'exportStatusMessage') if 'Ready' in q.text]) != 1:\n",
    "        pass\n",
    "    \n",
    "    for download_button in driver.find_elements(By.XPATH,\"//*[contains(@class, 'buttonDownloadSave') and not(contains(@class, 'buttonDownloadDelete'))]\"):\n",
    "        try:\n",
    "            download_button.click()\n",
    "        except:\n",
    "            pass"
   ]
  },
  {
   "cell_type": "code",
   "execution_count": null,
   "metadata": {
    "ExecuteTime": {
     "end_time": "2023-01-12T14:36:32.728226Z",
     "start_time": "2023-01-12T14:36:32.712606Z"
    }
   },
   "outputs": [],
   "source": [
    "show_again = True\n",
    "clear_list_button = None\n",
    "def clear_all_downloads():\n",
    "    \"\"\"\n",
    "    Clears all the downloads.\n",
    "    \"\"\"\n",
    "    \n",
    "    global show_again, clear_list_button\n",
    "    \n",
    "    try_click(By.ID,'download_text')\n",
    "    try_click(By.ID,'downloadManagerMenuItem_text')\n",
    "    if not clear_list_button:\n",
    "        clear_list_buttons = try_click(By.CLASS_NAME, 'dijitReset', condition='Clear list')\n",
    "    else:\n",
    "        clear_list_button.click()\n",
    "    \n",
    "    # Clicking the confirmation dialogue\n",
    "    if show_again:\n",
    "        try_click(By.CLASS_NAME, 'doNotShowAgain')\n",
    "        try_click(By.CLASS_NAME, 'dijitReset', condition='Yes')\n",
    "        show_again = False\n",
    "    if not clear_list_button:\n",
    "        clear_list_button = clear_list_buttons[0]\n",
    "\n",
    "    # Closing the download manager\n",
    "    close_dialogue()"
   ]
  },
  {
   "cell_type": "code",
   "execution_count": null,
   "metadata": {
    "ExecuteTime": {
     "end_time": "2023-01-12T14:36:32.884839Z",
     "start_time": "2023-01-12T14:36:32.869218Z"
    }
   },
   "outputs": [],
   "source": [
    "def close_dialogue():\n",
    "    \"\"\"\n",
    "    Function to close any dialogue.\n",
    "    \"\"\"\n",
    "    try_click(By.CLASS_NAME,'dijitDialogCloseIcon')"
   ]
  },
  {
   "cell_type": "code",
   "execution_count": null,
   "metadata": {
    "ExecuteTime": {
     "end_time": "2023-01-12T14:36:33.041861Z",
     "start_time": "2023-01-12T14:36:33.026240Z"
    }
   },
   "outputs": [],
   "source": [
    "def search():\n",
    "    \"\"\"\n",
    "    Function to launch the query.\n",
    "    \"\"\"\n",
    "    try_click(By.ID,'queryBlockContentResultTable_btLaunchQuery')"
   ]
  },
  {
   "cell_type": "code",
   "execution_count": null,
   "metadata": {
    "ExecuteTime": {
     "end_time": "2023-01-12T14:36:33.214507Z",
     "start_time": "2023-01-12T14:36:33.198880Z"
    }
   },
   "outputs": [],
   "source": [
    "def find_nb_rows():\n",
    "    \"\"\"\n",
    "    Function to find the number of rows of a query. Uses the red figure displayed on the top left.\n",
    "    \"\"\"\n",
    "    try:\n",
    "        idx = driver.page_source.find(' rows')\n",
    "        text_around = driver.page_source[idx-100:idx]\n",
    "        idx = text_around.find(\"\"\"\"onDblClick:stopEvent\">\"\"\")\n",
    "        text_around = text_around[idx+23:]\n",
    "        nb_rows = int(text_around.replace(\"&nbsp;\",''))\n",
    "        return nb_rows\n",
    "    \n",
    "    except ValueError:\n",
    "        print('No query found.')"
   ]
  },
  {
   "cell_type": "code",
   "execution_count": null,
   "metadata": {
    "ExecuteTime": {
     "end_time": "2023-01-12T14:36:33.668626Z",
     "start_time": "2023-01-12T14:36:33.606140Z"
    }
   },
   "outputs": [],
   "source": [
    "def prepare_download():\n",
    "    \"\"\"\n",
    "    Function to prepare the download of the actual query.\n",
    "    \"\"\"\n",
    "    \n",
    "    nb_rows = find_nb_rows()\n",
    "    delta_row = 700000 # maximum entry for a download in Patstat\n",
    "    row = 1\n",
    "    count_downloads = 0\n",
    "    while row + delta_row < nb_rows:\n",
    "        \n",
    "        count_downloads += 1\n",
    "\n",
    "        button_download_menu = driver.find_element(By.ID,'download_text')\n",
    "        button_download_menu.click()\n",
    "        time.sleep(1)\n",
    "        button_download_menu_2 = driver.find_element(By.ID,'downloadMenuItem_text')\n",
    "        button_download_menu_2.click()\n",
    "        time.sleep(1)\n",
    "\n",
    "        content_from = driver.find_element(By.ID,'dijit_form_TextBox_1')\n",
    "        content_from.click()\n",
    "        content_from.send_keys(Keys.CONTROL + \"a\") #select all\n",
    "        content_from.send_keys(row)\n",
    "\n",
    "        content_to = driver.find_element(By.ID,'dijit_form_TextBox_2')\n",
    "        content_to.click()\n",
    "        content_to.send_keys(Keys.CONTROL + \"a\") #select all\n",
    "        content_to.send_keys(row+delta_row-1)\n",
    "\n",
    "        button_OK = driver.find_element(By.ID,'btDownload_label').click()\n",
    "\n",
    "        row += delta_row\n",
    "\n",
    "        time.sleep(1)\n",
    "\n",
    "    # Last query\n",
    "    \n",
    "    count_downloads += 1\n",
    "\n",
    "    button_download_menu = driver.find_element(By.ID,'download_text')\n",
    "    button_download_menu.click()\n",
    "    time.sleep(1)\n",
    "    button_download_menu_2 = driver.find_element(By.ID,'downloadMenuItem_text')\n",
    "    button_download_menu_2.click()\n",
    "    time.sleep(1)\n",
    "\n",
    "    content_from = driver.find_element(By.ID,'dijit_form_TextBox_1')\n",
    "    content_from.click()\n",
    "    content_from.send_keys(Keys.CONTROL + \"a\") #select all\n",
    "    content_from.send_keys(row)\n",
    "\n",
    "    content_to = driver.find_element(By.ID,'dijit_form_TextBox_2')\n",
    "    content_to.click()\n",
    "    content_to.send_keys(Keys.CONTROL + \"a\") #select all\n",
    "    content_to.send_keys(nb_rows)\n",
    "\n",
    "    button_OK = driver.find_element(By.ID,'btDownload_label').click()\n",
    "    \n",
    "    print(count_downloads,'download(s) ready')\n",
    "    return count_downloads"
   ]
  },
  {
   "cell_type": "code",
   "execution_count": null,
   "metadata": {
    "ExecuteTime": {
     "end_time": "2023-01-12T14:36:33.966636Z",
     "start_time": "2023-01-12T14:36:33.951015Z"
    }
   },
   "outputs": [],
   "source": [
    "def wait():\n",
    "    '''\n",
    "    A function that waits for a task to end on Patstat.\n",
    "    \n",
    "    The screen usually darken while some tasks are performed on Patstat,\n",
    "    preventing the background to be interacted with.\n",
    "    This function simply tries to interact with the background continuously.\n",
    "    If it is not available, the tasks are considered to be still in progress.\n",
    "    '''\n",
    "    \n",
    "    flag = True\n",
    "    while flag:\n",
    "        try:\n",
    "            query_field_click.click()\n",
    "            flag = False\n",
    "            break\n",
    "        except:\n",
    "            pass"
   ]
  },
  {
   "cell_type": "markdown",
   "metadata": {},
   "source": [
    "In the following example, the script launches three different queries. One for the patent count between 1990 and 1999, one between 2000 and 2009, and the last one between 2010 and 2019. Notice that this could have been done in one shot, from 1990 to 2019, but this just serves as an example here."
   ]
  },
  {
   "cell_type": "code",
   "execution_count": null,
   "metadata": {
    "ExecuteTime": {
     "end_time": "2023-01-12T14:38:34.662281Z",
     "start_time": "2023-01-12T14:36:37.055863Z"
    }
   },
   "outputs": [],
   "source": [
    "driver, query_field, query_field_click = initialize_patstat('Chrome')\n",
    "\n",
    "# If TEST is displayed in the query field. Identification worked properly.\n",
    "write_query('TEST')\n",
    "print('\\nCheck if the word TEST is displayed in the query field.')"
   ]
  },
  {
   "cell_type": "code",
   "execution_count": null,
   "metadata": {
    "ExecuteTime": {
     "end_time": "2023-01-12T09:43:13.194449Z",
     "start_time": "2023-01-12T09:43:13.178828Z"
    }
   },
   "outputs": [],
   "source": [
    "def example_query(date_start, date_end):\n",
    "    text = f\"\"\"\n",
    "SELECT a.appln_filing_year, COUNT(DISTINCT a.appln_id) AS NumberOfPatentApplications\n",
    "FROM tls201_appln a\n",
    "JOIN tls209_appln_ipc i ON a.appln_id = i.appln_id\n",
    "WHERE i.ipc_class_symbol LIKE 'B08B%' -- Change IPC symbol here\n",
    "AND a.appln_filing_year BETWEEN {str(date_start)} AND {str(date_end)} -- Define year range here\n",
    "GROUP BY a.appln_filing_year\n",
    "ORDER BY a.appln_filing_year\n",
    "\"\"\"\n",
    "    return text"
   ]
  },
  {
   "cell_type": "code",
   "execution_count": null,
   "metadata": {
    "ExecuteTime": {
     "end_time": "2023-01-12T09:43:13.210068Z",
     "start_time": "2023-01-12T09:43:13.194449Z"
    },
    "scrolled": true
   },
   "outputs": [],
   "source": [
    "print(example_query(2012,2013))"
   ]
  },
  {
   "cell_type": "code",
   "execution_count": null,
   "metadata": {
    "ExecuteTime": {
     "end_time": "2023-01-12T09:52:25.553543Z",
     "start_time": "2023-01-12T09:51:12.228905Z"
    }
   },
   "outputs": [],
   "source": [
    "#clear_all_downloads()\n",
    "\n",
    "for date_start in [1990,2000,2010]:\n",
    "\n",
    "    wait()\n",
    "    \n",
    "    # Write the query to the field\n",
    "    write_query(example_query(date_start, date_start+9))\n",
    "    \n",
    "    # Launch the query\n",
    "    search()\n",
    "    \n",
    "    # Wait for query to end\n",
    "    wait()\n",
    "    print(find_nb_rows(), 'entries found')\n",
    "    \n",
    "    # Prepare downloads of the actual query\n",
    "    count_downloads = prepare_download()\n",
    "    \n",
    "    # Wait for preparation and download all\n",
    "    wait()\n",
    "    download_all()\n",
    "    close_dialogue()\n",
    "    \n",
    "    # Rename the downloads\n",
    "    \n",
    "    # Folder in which files are downloaded\n",
    "    download_path = Path('C:/Users/Dhorne/Downloads')\n",
    "    \n",
    "    # Wait for the download to end\n",
    "    while len([file for file in download_path.iterdir() if 'resulttable' in file.name]) == 0:\n",
    "        pass\n",
    "    downloaded_files = [file for file in download_path.iterdir() if 'resulttable' in file.name and '.zip' in file.suffix]\n",
    "    \n",
    "    # Identifier to rename the generic file name. Here, the queries correspond to different dates.\n",
    "    # Dates are therefore used to rename the files (do not use 'resulttable' in the name!)\n",
    "    identifier = str(date_start)+'_'+str(date_start+9)\n",
    "\n",
    "    if count_downloads != len(downloaded_files):\n",
    "        raise Exception('Found '+str(len(downloaded_files))+' files, expected '+str(count_downloads))\n",
    "    else:\n",
    "        if len(downloaded_files) == 1:\n",
    "            os.rename(downloaded_files[0], str(downloaded_files[0].parent)+'/'+identifier+downloaded_files[0].suffix)\n",
    "        else:\n",
    "            count = 1\n",
    "            for file in downloaded_files:\n",
    "                os.rename(file, str(file.parent)+'/'+identifier+'_'+str(count)+file.suffix)\n",
    "                count += 1\n",
    "                \n",
    "    clear_all_downloads()"
   ]
  },
  {
   "cell_type": "code",
   "execution_count": null,
   "metadata": {
    "ExecuteTime": {
     "end_time": "2023-01-12T10:00:56.669581Z",
     "start_time": "2023-01-12T10:00:56.556367Z"
    }
   },
   "outputs": [],
   "source": [
    "query_field[0].click()"
   ]
  },
  {
   "cell_type": "code",
   "execution_count": null,
   "metadata": {
    "ExecuteTime": {
     "end_time": "2023-01-12T13:31:40.967568Z",
     "start_time": "2023-01-12T13:31:32.203127Z"
    }
   },
   "outputs": [],
   "source": [
    "aa = [el for el in driver.find_elements_by_xpath('//*')]\n",
    "len(aa)"
   ]
  },
  {
   "cell_type": "code",
   "execution_count": null,
   "metadata": {
    "ExecuteTime": {
     "end_time": "2023-01-12T10:33:27.356128Z",
     "start_time": "2023-01-12T10:33:27.350144Z"
    }
   },
   "outputs": [],
   "source": [
    "count = 0"
   ]
  },
  {
   "cell_type": "code",
   "execution_count": null,
   "metadata": {
    "ExecuteTime": {
     "end_time": "2023-01-12T10:34:23.386023Z",
     "start_time": "2023-01-12T10:34:23.342136Z"
    }
   },
   "outputs": [],
   "source": [
    "aa[13].click()"
   ]
  },
  {
   "cell_type": "code",
   "execution_count": null,
   "metadata": {
    "ExecuteTime": {
     "end_time": "2023-01-12T10:34:15.845738Z",
     "start_time": "2023-01-12T10:34:15.793877Z"
    }
   },
   "outputs": [],
   "source": [
    "aa[13].send_keys('a')"
   ]
  },
  {
   "cell_type": "code",
   "execution_count": null,
   "metadata": {
    "ExecuteTime": {
     "end_time": "2023-01-12T10:34:16.917577Z",
     "start_time": "2023-01-12T10:34:16.829296Z"
    }
   },
   "outputs": [],
   "source": [
    "query_field_click.click()\n",
    "count += 1\n",
    "print(count)\n",
    "aa[count].send_keys('a')\n"
   ]
  },
  {
   "cell_type": "code",
   "execution_count": null,
   "metadata": {
    "ExecuteTime": {
     "end_time": "2023-01-12T10:38:08.465440Z",
     "start_time": "2023-01-12T10:38:08.458459Z"
    }
   },
   "outputs": [],
   "source": [
    "count = 0"
   ]
  },
  {
   "cell_type": "code",
   "execution_count": null,
   "metadata": {},
   "outputs": [],
   "source": [
    "aa[5461]?"
   ]
  },
  {
   "cell_type": "code",
   "execution_count": null,
   "metadata": {
    "ExecuteTime": {
     "end_time": "2023-01-12T11:05:34.720779Z",
     "start_time": "2023-01-12T11:05:34.701693Z"
    }
   },
   "outputs": [],
   "source": [
    "aa[5461]\n",
    "element=\"002cae85-38d7-45e3-a4a2-c3693c448c47\""
   ]
  },
  {
   "cell_type": "code",
   "execution_count": null,
   "metadata": {
    "ExecuteTime": {
     "end_time": "2023-01-12T13:20:01.992290Z",
     "start_time": "2023-01-12T13:20:01.976671Z"
    }
   },
   "outputs": [],
   "source": [
    "query_field = aa[5460]"
   ]
  },
  {
   "cell_type": "code",
   "execution_count": null,
   "metadata": {
    "ExecuteTime": {
     "start_time": "2023-01-12T13:10:48.905Z"
    }
   },
   "outputs": [],
   "source": [
    "query_field.text"
   ]
  },
  {
   "cell_type": "code",
   "execution_count": null,
   "metadata": {
    "ExecuteTime": {
     "end_time": "2023-01-12T13:38:28.132158Z",
     "start_time": "2023-01-12T13:38:28.053656Z"
    }
   },
   "outputs": [],
   "source": [
    "[el for el in driver.find_elements_by_id('removeTechnology_5_label')][0].send_keys('ABC')"
   ]
  },
  {
   "cell_type": "code",
   "execution_count": null,
   "metadata": {
    "ExecuteTime": {
     "end_time": "2023-01-12T14:02:03.217858Z",
     "start_time": "2023-01-12T14:02:03.086855Z"
    }
   },
   "outputs": [],
   "source": [
    "query_field_click.click()\n",
    "element = aa[5461]\n",
    "element.send_keys('ABC')"
   ]
  },
  {
   "cell_type": "code",
   "execution_count": null,
   "metadata": {
    "ExecuteTime": {
     "end_time": "2023-01-12T14:13:06.289769Z",
     "start_time": "2023-01-12T14:11:52.827367Z"
    }
   },
   "outputs": [],
   "source": [
    "areas = []\n",
    "for aaa in aa:\n",
    "    try:\n",
    "        if aaa.get_attribute('type')=='textarea':\n",
    "            areas.append(aaa)\n",
    "    except:\n",
    "        pass"
   ]
  },
  {
   "cell_type": "code",
   "execution_count": null,
   "metadata": {
    "ExecuteTime": {
     "end_time": "2023-01-12T14:08:36.291228Z",
     "start_time": "2023-01-12T14:07:56.742336Z"
    }
   },
   "outputs": [],
   "source": [
    "[el for el in aa if el.get_attribute('type')=='textarea']"
   ]
  },
  {
   "cell_type": "code",
   "execution_count": null,
   "metadata": {
    "ExecuteTime": {
     "end_time": "2023-01-12T14:09:37.443645Z",
     "start_time": "2023-01-12T14:09:37.396782Z"
    }
   },
   "outputs": [],
   "source": [
    "driver.find_element_by_class_name('')"
   ]
  },
  {
   "cell_type": "code",
   "execution_count": null,
   "metadata": {
    "ExecuteTime": {
     "end_time": "2023-01-12T14:07:15.456900Z",
     "start_time": "2023-01-12T14:06:45.002897Z"
    }
   },
   "outputs": [],
   "source": [
    "for attrib in ['accept','accept-charset','accesskey','action','align','alt','async','autocomplete','autofocus','autoplay','bgcolor','border','charset','checked','cite','class','color','cols','colspan','content','contenteditable','controls','coords','data','data-*','datetime','default','defer','dir','dirname','disabled','download','draggable','enctype','for','form','formaction','headers','height','hidden','high','href','hreflang','http-equiv','id','ismap','kind','label','lang','list','loop','low','max','maxlength','media','method','min','multiple','muted','name','novalidate','onabort','onafterprint','onbeforeprint','onbeforeunload','onblur','oncanplay','oncanplaythrough','onchange','onclick','oncontextmenu','oncopy','oncuechange','oncut','ondblclick','ondrag','ondragend','ondragenter','ondragleave','ondragover','ondragstart','ondrop','ondurationchange','onemptied','onended','onerror','onfocus','onhashchange','oninput','oninvalid','onkeydown','onkeypress','onkeyup','onload','onloadeddata','onloadedmetadata','onloadstart','onmousedown','onmousemove','onmouseout','onmouseover','onmouseup','onmousewheel','onoffline','ononline','onpagehide','onpageshow','onpaste','onpause','onplay','onplaying','onpopstate','onprogress','onratechange','onreset','onresize','onscroll','onsearch','onseeked','onseeking','onselect','onstalled','onstorage','onsubmit','onsuspend','ontimeupdate','ontoggle','onunload','onvolumechange','onwaiting','onwheel','open','optimum','pattern','placeholder','poster','preload','readonly','rel','required','reversed','rows','rowspan','sandbox','scope','selected','shape','size','sizes','span','spellcheck','src','srcdoc','srclang','srcset','start','step','style','tabindex','target','title','translate','type','usemap','value','width','wrap']:\n",
    "    query_field_click.click()\n",
    "    aa[5461].send_keys(attrib)\n",
    "    if aa[5461].get_attribute(attrib) is not None:\n",
    "        print(attrib, aa[5461].get_attribute(attrib))"
   ]
  },
  {
   "cell_type": "code",
   "execution_count": null,
   "metadata": {
    "ExecuteTime": {
     "end_time": "2023-01-12T13:57:34.982683Z",
     "start_time": "2023-01-12T13:57:34.834864Z"
    }
   },
   "outputs": [],
   "source": [
    "query_field_click.click()\n",
    "aa[5461].send_keys('xpath')\n",
    "print(aa[5461].get_attribute('xpath'))"
   ]
  },
  {
   "cell_type": "code",
   "execution_count": null,
   "metadata": {},
   "outputs": [],
   "source": [
    "driver.find"
   ]
  },
  {
   "cell_type": "code",
   "execution_count": null,
   "metadata": {},
   "outputs": [],
   "source": [
    "dijitReset dijitInline dijitButtonText\n",
    "removeTechnology_5_label"
   ]
  },
  {
   "cell_type": "code",
   "execution_count": null,
   "metadata": {
    "ExecuteTime": {
     "end_time": "2023-01-12T13:39:47.141093Z",
     "start_time": "2023-01-12T13:39:47.015718Z"
    }
   },
   "outputs": [],
   "source": []
  },
  {
   "cell_type": "code",
   "execution_count": null,
   "metadata": {
    "ExecuteTime": {
     "end_time": "2023-01-12T13:49:28.491254Z",
     "start_time": "2023-01-12T13:49:26.177723Z"
    },
    "scrolled": true
   },
   "outputs": [],
   "source": [
    "count_start = 5460\n",
    "count_end = 5463\n",
    "for idx in range(count_start,count_end):\n",
    "    try:\n",
    "        print(idx, end='\\r')\n",
    "        query_field_click.click()\n",
    "        aa[idx].send_keys(str(idx)+' OHHHH')\n",
    "        aa[idx].send_keys(Keys.RETURN)\n",
    "        aa[idx].send_keys(Keys.ENTER)\n",
    "        time.sleep(2)\n",
    "        print('')\n",
    "        print('')\n",
    "        print('--->',idx)\n",
    "        print('')\n",
    "        print('')\n",
    "\n",
    "    except:\n",
    "        pass"
   ]
  },
  {
   "cell_type": "code",
   "execution_count": null,
   "metadata": {
    "ExecuteTime": {
     "end_time": "2023-01-12T10:04:41.449327Z",
     "start_time": "2023-01-12T10:04:41.432373Z"
    }
   },
   "outputs": [],
   "source": [
    "query_field = [el for el in driver.find_elements_by_class_name('CodeMirror-scroll') if 'tls201' in el.text]\n",
    "query_field[0].click()\n",
    "query_field[0].send_keys('A')\n",
    "id=\"queryBlockContentResultTable\"\n",
    "searchBlockBodyWithFooter\n",
    "class=\"dijitContentPane searchQueryEditor\"\n",
    "class=\"CodeMirror CodeMirror-wrap dojoDndTarget cm-s-sql dojoDndContainerOver\"\n",
    "class=\"CodeMirror-sizer\""
   ]
  },
  {
   "cell_type": "code",
   "execution_count": null,
   "metadata": {
    "ExecuteTime": {
     "end_time": "2023-01-12T10:12:44.949624Z",
     "start_time": "2023-01-12T10:12:44.893774Z"
    }
   },
   "outputs": [],
   "source": [
    "query_field_click.click()"
   ]
  },
  {
   "cell_type": "code",
   "execution_count": null,
   "metadata": {
    "ExecuteTime": {
     "end_time": "2023-01-12T14:32:36.588518Z",
     "start_time": "2023-01-12T14:31:38.173101Z"
    }
   },
   "outputs": [],
   "source": [
    "if browser == 'Chrome':\n",
    "    all_elements = [el for el in driver.find_elements_by_xpath('//*')]\n",
    "    \n",
    "    text_areas = []\n",
    "\n",
    "    for i in range(len(all_elements)):\n",
    "        el = all_elements[i]\n",
    "        try:\n",
    "            if el.get_attribute('type')=='textarea':\n",
    "                query_field_click.click()\n",
    "                el.send_keys(Keys.CONTROL + \"a\")\n",
    "                el.send_keys(str(i))\n",
    "                el.send_keys(Keys.CONTROL + \"c\")\n",
    "                copied_text = pyperclip.paste()\n",
    "                if copied_text == str(i):\n",
    "                    query_field = el\n",
    "                    break\n",
    "        except:\n",
    "            pass"
   ]
  },
  {
   "cell_type": "code",
   "execution_count": null,
   "metadata": {
    "ExecuteTime": {
     "end_time": "2023-01-12T14:33:14.034554Z",
     "start_time": "2023-01-12T14:33:13.878440Z"
    }
   },
   "outputs": [],
   "source": [
    "query_field_click.click()\n",
    "el.send_keys(\"TEST\")"
   ]
  },
  {
   "cell_type": "code",
   "execution_count": null,
   "metadata": {},
   "outputs": [],
   "source": []
  }
 ],
 "metadata": {
  "kernelspec": {
   "display_name": "Python 3",
   "language": "python",
   "name": "python3"
  },
  "language_info": {
   "codemirror_mode": {
    "name": "ipython",
    "version": 3
   },
   "file_extension": ".py",
   "mimetype": "text/x-python",
   "name": "python",
   "nbconvert_exporter": "python",
   "pygments_lexer": "ipython3",
   "version": "3.6.13"
  },
  "latex_envs": {
   "LaTeX_envs_menu_present": true,
   "autoclose": false,
   "autocomplete": true,
   "bibliofile": "biblio.bib",
   "cite_by": "apalike",
   "current_citInitial": 1,
   "eqLabelWithNumbers": true,
   "eqNumInitial": 1,
   "hotkeys": {
    "equation": "Ctrl-E",
    "itemize": "Ctrl-I"
   },
   "labels_anchors": false,
   "latex_user_defs": false,
   "report_style_numbering": false,
   "user_envs_cfg": false
  },
  "toc": {
   "base_numbering": 1,
   "nav_menu": {},
   "number_sections": true,
   "sideBar": true,
   "skip_h1_title": false,
   "title_cell": "Table of Contents",
   "title_sidebar": "Contents",
   "toc_cell": false,
   "toc_position": {},
   "toc_section_display": true,
   "toc_window_display": false
  },
  "varInspector": {
   "cols": {
    "lenName": 16,
    "lenType": 16,
    "lenVar": 40
   },
   "kernels_config": {
    "python": {
     "delete_cmd_postfix": "",
     "delete_cmd_prefix": "del ",
     "library": "var_list.py",
     "varRefreshCmd": "print(var_dic_list())"
    },
    "r": {
     "delete_cmd_postfix": ") ",
     "delete_cmd_prefix": "rm(",
     "library": "var_list.r",
     "varRefreshCmd": "cat(var_dic_list()) "
    }
   },
   "types_to_exclude": [
    "module",
    "function",
    "builtin_function_or_method",
    "instance",
    "_Feature"
   ],
   "window_display": false
  }
 },
 "nbformat": 4,
 "nbformat_minor": 4
}
